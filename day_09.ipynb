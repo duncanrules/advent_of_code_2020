{
 "cells": [
  {
   "cell_type": "code",
   "execution_count": 1,
   "metadata": {},
   "outputs": [],
   "source": [
    "with open('day_9.txt', 'r') as f:\n",
    "    xmas = f.read().splitlines()\n",
    "    \n",
    "xmas = [int(x) for x in xmas]"
   ]
  },
  {
   "cell_type": "code",
   "execution_count": 2,
   "metadata": {},
   "outputs": [],
   "source": [
    "def check_value(val, preamble):\n",
    "    '''Check whether a value can be made by adding two different values in a list'''\n",
    "    for x in preamble:\n",
    "        for y in preamble:\n",
    "            if x != y and x + y == val:\n",
    "                return(True)\n",
    "            \n",
    "    return(False)"
   ]
  },
  {
   "cell_type": "code",
   "execution_count": 3,
   "metadata": {},
   "outputs": [],
   "source": [
    "def check_list(xmas_code, check_length=25):\n",
    "    '''Find the position in a list that can be created by summing two different values in the previous x items'''\n",
    "    for i in range(check_length, len(xmas_code)):\n",
    "        if not check_value(xmas_code[i], xmas_code[i-check_length:i]):\n",
    "            return(xmas_code[i])"
   ]
  },
  {
   "cell_type": "markdown",
   "metadata": {},
   "source": [
    "# Part 1"
   ]
  },
  {
   "cell_type": "code",
   "execution_count": 4,
   "metadata": {},
   "outputs": [
    {
     "data": {
      "text/plain": [
       "15353384"
      ]
     },
     "execution_count": 4,
     "metadata": {},
     "output_type": "execute_result"
    }
   ],
   "source": [
    "check_list(xmas)"
   ]
  },
  {
   "cell_type": "markdown",
   "metadata": {},
   "source": [
    "# Part 2"
   ]
  },
  {
   "cell_type": "code",
   "execution_count": 5,
   "metadata": {},
   "outputs": [],
   "source": [
    "def find_weakness(xmas_code, search_val=15353384):\n",
    "    '''Find the list of contiguous values adding to the search value and return the sum of its min and max'''\n",
    "    \n",
    "    # for each value, add contiguous values to a list until it surpasses or equals the value\n",
    "    for i in range(len(xmas_code)):\n",
    "    \n",
    "        ls = []\n",
    "\n",
    "        for j in range(i, len(xmas_code)):\n",
    "\n",
    "            ls.append(xmas_code[j])\n",
    "            \n",
    "            if sum(ls) > search_val:\n",
    "                break\n",
    "            if sum(ls) == search_val:\n",
    "                return(min(ls) + max(ls))"
   ]
  },
  {
   "cell_type": "code",
   "execution_count": 6,
   "metadata": {},
   "outputs": [
    {
     "data": {
      "text/plain": [
       "2466556"
      ]
     },
     "execution_count": 6,
     "metadata": {},
     "output_type": "execute_result"
    }
   ],
   "source": [
    "find_weakness(xmas)"
   ]
  }
 ],
 "metadata": {
  "kernelspec": {
   "display_name": "Python 3",
   "language": "python",
   "name": "python3"
  },
  "language_info": {
   "codemirror_mode": {
    "name": "ipython",
    "version": 3
   },
   "file_extension": ".py",
   "mimetype": "text/x-python",
   "name": "python",
   "nbconvert_exporter": "python",
   "pygments_lexer": "ipython3",
   "version": "3.6.5"
  },
  "toc": {
   "base_numbering": 1,
   "nav_menu": {},
   "number_sections": true,
   "sideBar": true,
   "skip_h1_title": false,
   "title_cell": "Table of Contents",
   "title_sidebar": "Contents",
   "toc_cell": false,
   "toc_position": {},
   "toc_section_display": true,
   "toc_window_display": false
  },
  "varInspector": {
   "cols": {
    "lenName": 16,
    "lenType": 16,
    "lenVar": 40
   },
   "kernels_config": {
    "python": {
     "delete_cmd_postfix": "",
     "delete_cmd_prefix": "del ",
     "library": "var_list.py",
     "varRefreshCmd": "print(var_dic_list())"
    },
    "r": {
     "delete_cmd_postfix": ") ",
     "delete_cmd_prefix": "rm(",
     "library": "var_list.r",
     "varRefreshCmd": "cat(var_dic_list()) "
    }
   },
   "types_to_exclude": [
    "module",
    "function",
    "builtin_function_or_method",
    "instance",
    "_Feature"
   ],
   "window_display": false
  }
 },
 "nbformat": 4,
 "nbformat_minor": 2
}
