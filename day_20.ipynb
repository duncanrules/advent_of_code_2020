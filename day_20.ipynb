{
 "cells": [
  {
   "cell_type": "code",
   "execution_count": 1,
   "metadata": {},
   "outputs": [],
   "source": [
    "import re\n",
    "from collections import defaultdict\n",
    "from collections import Counter\n",
    "import numpy as np\n",
    "import copy\n",
    "\n",
    "with open('day_20.txt', 'r') as f:\n",
    "    tiles = f.read().split('\\n\\n')\n",
    "    \n",
    "tiles = [tile.splitlines() for tile in tiles]"
   ]
  },
  {
   "cell_type": "markdown",
   "metadata": {},
   "source": [
    "# Part 1"
   ]
  },
  {
   "cell_type": "code",
   "execution_count": 2,
   "metadata": {},
   "outputs": [],
   "source": [
    "edge_dict = defaultdict(list)\n",
    "tile_dict = dict()\n",
    "\n",
    "for t in tiles:\n",
    "    \n",
    "    tile_id = int(re.search(r'([0-9]+)', t[0]).group(1))\n",
    "    tile = t[1:]\n",
    "    tile_dict[tile_id] = tile\n",
    "    \n",
    "    # get four borders\n",
    "    up = tile[0]\n",
    "    down = tile[-1]\n",
    "    left = ''.join([x[0] for x in tile])\n",
    "    right = ''.join([x[-1] for x in tile])\n",
    "    \n",
    "    # get a tuple of the border and the reversal of the border\n",
    "    # add to dictionary with the tile id as value\n",
    "    edge_dict[frozenset((up, up[::-1]))].append(tile_id)\n",
    "    edge_dict[frozenset((down, down[::-1]))].append(tile_id)\n",
    "    edge_dict[frozenset((left, left[::-1]))].append(tile_id)\n",
    "    edge_dict[frozenset((right, right[::-1]))].append(tile_id)\n",
    "    "
   ]
  },
  {
   "cell_type": "code",
   "execution_count": 3,
   "metadata": {},
   "outputs": [
    {
     "data": {
      "text/plain": [
       "47213728755493.0"
      ]
     },
     "execution_count": 3,
     "metadata": {},
     "output_type": "execute_result"
    }
   ],
   "source": [
    "# get all edges that only exist in one tile (borders)\n",
    "lone_edges = [l[0] for l in edge_dict.values() if len(l) == 1]\n",
    "# get tile IDs that show up twice in the list of borders (corners)\n",
    "corners = [key for key, val in Counter(lone_edges).items() if val == 2]\n",
    "np.prod([float(c) for c in corners])"
   ]
  },
  {
   "cell_type": "markdown",
   "metadata": {},
   "source": [
    "# Part 2"
   ]
  },
  {
   "cell_type": "markdown",
   "metadata": {},
   "source": [
    "## Get the image"
   ]
  },
  {
   "cell_type": "code",
   "execution_count": 4,
   "metadata": {},
   "outputs": [],
   "source": [
    "def rotate_tile(tile):\n",
    "    \"\"\"Rotate a tile clockwise.\"\"\"\n",
    "    return([''.join(x) for x in list(zip(*reversed(tile)))])"
   ]
  },
  {
   "cell_type": "code",
   "execution_count": 5,
   "metadata": {},
   "outputs": [],
   "source": [
    "def flip_tile(tile):\n",
    "    \"\"\"Mirror a tile.\"\"\"\n",
    "    return([x[::-1] for x in tile])"
   ]
  },
  {
   "cell_type": "code",
   "execution_count": 6,
   "metadata": {},
   "outputs": [],
   "source": [
    "def orient_tile(left_tile, right_tile):\n",
    "    \"\"\"Flip and rotate tile 2 until its left edge aligns with right edge of tile 1.\"\"\"  \n",
    "    \n",
    "    right = ''.join([x[-1] for x in left_tile])\n",
    "    \n",
    "    for i in range(8):\n",
    "        \n",
    "        right_tile = rotate_tile(right_tile)\n",
    "        left = ''.join([x[0] for x in right_tile])\n",
    "        if right == left:\n",
    "            return(right_tile)\n",
    "        \n",
    "        right_tile = flip_tile(right_tile)\n",
    "        left = ''.join([x[0] for x in right_tile])\n",
    "        if right == left:\n",
    "            return(right_tile)\n",
    "\n",
    "        if i % 2 == 0:\n",
    "            right_tile = rotate_tile(right_tile)"
   ]
  },
  {
   "cell_type": "code",
   "execution_count": 7,
   "metadata": {},
   "outputs": [],
   "source": [
    "def orient_tile_updown(up_tile, down_tile):\n",
    "    \"\"\"Flip and rotate tile 2 until its upper edge aligns with bottom edge of tile 1.\"\"\"  \n",
    "      \n",
    "    down = up_tile[-1]\n",
    "    \n",
    "    for i in range(8):\n",
    "        \n",
    "        down_tile = rotate_tile(down_tile)\n",
    "        up = down_tile[0]\n",
    "        if up == down:\n",
    "            return(down_tile)\n",
    "        \n",
    "        down_tile = flip_tile(down_tile)\n",
    "        up = down_tile[0]\n",
    "        if up == down:\n",
    "            return(down_tile)\n",
    "        \n",
    "        if i % 2 == 0:\n",
    "            down_tile = rotate_tile(down_tile)"
   ]
  },
  {
   "cell_type": "code",
   "execution_count": 8,
   "metadata": {},
   "outputs": [],
   "source": [
    "# get a starting corner tile from part 1 to be our \"upper left\" corner and orient it properly\n",
    "# this can be multiple tiles because of flipping but we can always flip the final image\n",
    "starting_corner_id = corners[0]\n",
    "starting_corner = tile_dict[corners[0]]\n",
    "\n",
    "while True:\n",
    "    \n",
    "    right = ''.join([x[-1] for x in starting_corner])\n",
    "    down = starting_corner[-1]\n",
    "    \n",
    "    # check if the right edge and bottom edge are shared\n",
    "    if len(edge_dict[frozenset((right, right[::-1]))]) == 2 and len(edge_dict[frozenset((down, down[::-1]))]) == 2:\n",
    "        break\n",
    "            \n",
    "    # if not, rotate  the tile\n",
    "    starting_corner = rotate_tile(starting_corner)\n",
    "    \n",
    "tile_dict[starting_corner_id] = starting_corner"
   ]
  },
  {
   "cell_type": "code",
   "execution_count": 9,
   "metadata": {},
   "outputs": [],
   "source": [
    "tile_order = [starting_corner_id]"
   ]
  },
  {
   "cell_type": "code",
   "execution_count": 10,
   "metadata": {},
   "outputs": [],
   "source": [
    "while len(tile_order) < 144:\n",
    "    \n",
    "    if len(tile_order) % 12 == 0:\n",
    "        # grab the beginning of the previous row\n",
    "        previous_tile_id = tile_order[len(tile_order)-12]\n",
    "        previous_tile = tile_dict[previous_tile_id]\n",
    "        right = previous_tile[-1]\n",
    "        \n",
    "    else:\n",
    "        # grab the previous tile in the row\n",
    "        previous_tile_id = tile_order[-1]\n",
    "        previous_tile = tile_dict[previous_tile_id]\n",
    "        right = ''.join([x[-1] for x in previous_tile])\n",
    "    \n",
    "    # get the tile that borders the right edge\n",
    "    right_neighbor_id = copy.deepcopy(edge_dict[frozenset((right, right[::-1]))])\n",
    "    right_neighbor_id.remove(previous_tile_id)\n",
    "    right_neighbor_id = right_neighbor_id[0]\n",
    "    right_neighbor = copy.deepcopy(tile_dict[right_neighbor_id])\n",
    "    \n",
    "    # orient the tile\n",
    "    if len(tile_order) % 12 == 0:\n",
    "        right_neighbor = orient_tile_updown(previous_tile, right_neighbor)\n",
    "    else:\n",
    "        right_neighbor = orient_tile(previous_tile, right_neighbor)\n",
    "        \n",
    "    # add it to the list and properly orient the tile in the dict\n",
    "    tile_dict[right_neighbor_id] = right_neighbor\n",
    "    tile_order.append(right_neighbor_id)"
   ]
  },
  {
   "cell_type": "code",
   "execution_count": 11,
   "metadata": {},
   "outputs": [],
   "source": [
    "def remove_border(tile):\n",
    "    return([x[1:len(x)-1] for x in tile[1:len(tile)-1]])"
   ]
  },
  {
   "cell_type": "code",
   "execution_count": 12,
   "metadata": {},
   "outputs": [],
   "source": [
    "# remove the borders and concat into a single \"image\"\n",
    "start = [remove_border(tile_dict[tile_order[0]])]\n",
    "for i in range(1, 144):\n",
    "    \n",
    "    new = remove_border(tile_dict[tile_order[i]])\n",
    "    \n",
    "    if i % 12 == 0:\n",
    "        start.append(new)\n",
    "    else:\n",
    "        start[-1] = [''.join(x) for x in list(zip(start[-1], new))]"
   ]
  },
  {
   "cell_type": "code",
   "execution_count": 13,
   "metadata": {},
   "outputs": [],
   "source": [
    "pic = [item for sublist in start for item in sublist]"
   ]
  },
  {
   "cell_type": "markdown",
   "metadata": {},
   "source": [
    "## Find the serpents"
   ]
  },
  {
   "cell_type": "code",
   "execution_count": 14,
   "metadata": {},
   "outputs": [],
   "source": [
    "def get_serpents(p):\n",
    "    \"\"\"Brute force serpent identification because I'm very very tired.\"\"\"\n",
    "    serpent_tiles = []\n",
    "    for i in range(8):\n",
    "        for y in range(1, len(p)-1):\n",
    "            for x in range(len(p[y])-19):\n",
    "                if p[y][x] != '#':\n",
    "                    continue\n",
    "                if p[y+1][x+1] != '#':\n",
    "                    continue\n",
    "                if p[y+1][x+4] != '#':\n",
    "                    continue\n",
    "                if p[y][x+5] != '#':\n",
    "                    continue\n",
    "                if p[y][x+6] != '#':\n",
    "                    continue\n",
    "                if p[y+1][x+7] != '#':\n",
    "                    continue\n",
    "                if p[y+1][x+10] != '#':\n",
    "                    continue\n",
    "                if p[y][x+11] != '#':\n",
    "                    continue\n",
    "                if p[y][x+12] != '#':\n",
    "                    continue\n",
    "                if p[y+1][x+13] != '#':\n",
    "                    continue\n",
    "                if p[y+1][x+16] != '#':\n",
    "                    continue\n",
    "                if p[y][x+17] != '#':\n",
    "                    continue\n",
    "                if p[y-1][x+18] != '#':\n",
    "                    continue\n",
    "                if p[y][x+18] != '#':\n",
    "                    continue\n",
    "                if p[y][x+19] != '#':\n",
    "                    continue\n",
    "\n",
    "                serpent_tiles.append((x, y))\n",
    "                serpent_tiles.append((x+1, y+1))\n",
    "                serpent_tiles.append((x+4, y+1))\n",
    "                serpent_tiles.append((x+5, y))\n",
    "                serpent_tiles.append((x+6, y))\n",
    "                serpent_tiles.append((x+7, y+1))\n",
    "                serpent_tiles.append((x+10, y+1))\n",
    "                serpent_tiles.append((x+11, y))\n",
    "                serpent_tiles.append((x+12, y))\n",
    "                serpent_tiles.append((x+13, y+1))\n",
    "                serpent_tiles.append((x+16, y+1))\n",
    "                serpent_tiles.append((x+17, y))\n",
    "                serpent_tiles.append((x+18, y-1))\n",
    "                serpent_tiles.append((x+18, y))\n",
    "                serpent_tiles.append((x+19, y))\n",
    "                \n",
    "        if len(serpent_tiles) > 0:\n",
    "            return(serpent_tiles, p)\n",
    "        \n",
    "        p = rotate_tile(p)\n"
   ]
  },
  {
   "cell_type": "code",
   "execution_count": 15,
   "metadata": {},
   "outputs": [],
   "source": [
    "serpents, rotated_pic = get_serpents(pic)"
   ]
  },
  {
   "cell_type": "code",
   "execution_count": 16,
   "metadata": {},
   "outputs": [
    {
     "data": {
      "text/plain": [
       "1599"
      ]
     },
     "execution_count": 16,
     "metadata": {},
     "output_type": "execute_result"
    }
   ],
   "source": [
    "sum([x.count('#') for x in pic]) - len(serpents)"
   ]
  }
 ],
 "metadata": {
  "kernelspec": {
   "display_name": "Python 3",
   "language": "python",
   "name": "python3"
  },
  "language_info": {
   "codemirror_mode": {
    "name": "ipython",
    "version": 3
   },
   "file_extension": ".py",
   "mimetype": "text/x-python",
   "name": "python",
   "nbconvert_exporter": "python",
   "pygments_lexer": "ipython3",
   "version": "3.6.5"
  },
  "toc": {
   "base_numbering": 1,
   "nav_menu": {},
   "number_sections": true,
   "sideBar": true,
   "skip_h1_title": false,
   "title_cell": "Table of Contents",
   "title_sidebar": "Contents",
   "toc_cell": false,
   "toc_position": {},
   "toc_section_display": true,
   "toc_window_display": false
  },
  "varInspector": {
   "cols": {
    "lenName": 16,
    "lenType": 16,
    "lenVar": 40
   },
   "kernels_config": {
    "python": {
     "delete_cmd_postfix": "",
     "delete_cmd_prefix": "del ",
     "library": "var_list.py",
     "varRefreshCmd": "print(var_dic_list())"
    },
    "r": {
     "delete_cmd_postfix": ") ",
     "delete_cmd_prefix": "rm(",
     "library": "var_list.r",
     "varRefreshCmd": "cat(var_dic_list()) "
    }
   },
   "types_to_exclude": [
    "module",
    "function",
    "builtin_function_or_method",
    "instance",
    "_Feature"
   ],
   "window_display": false
  }
 },
 "nbformat": 4,
 "nbformat_minor": 2
}
