{
 "cells": [
  {
   "cell_type": "code",
   "execution_count": 1,
   "metadata": {},
   "outputs": [],
   "source": [
    "import copy\n",
    "with open('day_22.txt', 'r') as f:\n",
    "    p1, p2 = f.read().split('\\n\\n')"
   ]
  },
  {
   "cell_type": "markdown",
   "metadata": {},
   "source": [
    "# Part 1"
   ]
  },
  {
   "cell_type": "code",
   "execution_count": 2,
   "metadata": {},
   "outputs": [],
   "source": [
    "player_1 = [int(x) for x in p1.splitlines() if 'Player' not in x]\n",
    "player_2 = [int(x) for x in p2.splitlines() if 'Player' not in x]"
   ]
  },
  {
   "cell_type": "code",
   "execution_count": 3,
   "metadata": {},
   "outputs": [],
   "source": [
    "def war(deck_1, deck_2):\n",
    "    \n",
    "    if deck_1[0] > deck_2[0]:\n",
    "        deck_1.append(deck_1.pop(0))\n",
    "        deck_1.append(deck_2.pop(0))\n",
    "        \n",
    "    else:\n",
    "        deck_2.append(deck_2.pop(0))\n",
    "        deck_2.append(deck_1.pop(0))\n",
    "        \n",
    "    return(deck_1, deck_2)"
   ]
  },
  {
   "cell_type": "code",
   "execution_count": 4,
   "metadata": {},
   "outputs": [],
   "source": [
    "while len(player_1) > 0 and len(player_2) > 0:\n",
    "    player_1, player_2 = war(player_1, player_2)"
   ]
  },
  {
   "cell_type": "code",
   "execution_count": 5,
   "metadata": {},
   "outputs": [
    {
     "data": {
      "text/plain": [
       "32366"
      ]
     },
     "execution_count": 5,
     "metadata": {},
     "output_type": "execute_result"
    }
   ],
   "source": [
    "sum([(x[0]+1) * x[1] for x in enumerate(player_1[::-1])])"
   ]
  },
  {
   "cell_type": "markdown",
   "metadata": {},
   "source": [
    "# Part 2"
   ]
  },
  {
   "cell_type": "code",
   "execution_count": 6,
   "metadata": {},
   "outputs": [],
   "source": [
    "player_1 = [int(x) for x in p1.splitlines() if 'Player' not in x]\n",
    "player_2 = [int(x) for x in p2.splitlines() if 'Player' not in x]"
   ]
  },
  {
   "cell_type": "code",
   "execution_count": 7,
   "metadata": {},
   "outputs": [],
   "source": [
    "def war_two(deck_1, deck_2):\n",
    "    \n",
    "    # keep track of configurations we've seen this game\n",
    "    history = set()\n",
    "    \n",
    "    while len(deck_1) > 0 and len(deck_2) > 0:\n",
    "        \n",
    "        # exit if already seen\n",
    "        if (tuple(deck_1), tuple(deck_2)) in history:\n",
    "            return('player_1')\n",
    "        \n",
    "        history.add((tuple(deck_1), tuple(deck_2)))\n",
    "        \n",
    "        card_1 = deck_1.pop(0)\n",
    "        card_2 = deck_2.pop(0)\n",
    "        \n",
    "        # keep playing games until we get a winner\n",
    "        if len(deck_1) >= card_1 and len(deck_2) >= card_2:\n",
    "            winner = war_two(deck_1[:card_1], deck_2[:card_2])\n",
    "            \n",
    "            # add cards accordingly\n",
    "            if winner == 'player_1':\n",
    "                deck_1.append(card_1)\n",
    "                deck_1.append(card_2)\n",
    "            else:\n",
    "                deck_2.append(card_2)\n",
    "                deck_2.append(card_1)\n",
    "        \n",
    "        # play regular war if we don't have enough cards\n",
    "        else:\n",
    "            \n",
    "            if card_1 > card_2:\n",
    "                deck_1.append(card_1)\n",
    "                deck_1.append(card_2)\n",
    "            else:\n",
    "                deck_2.append(card_2)\n",
    "                deck_2.append(card_1)\n",
    "                \n",
    "    if len(deck_1) > 0:\n",
    "        return('player_1')\n",
    "    else:\n",
    "        return('player_2')"
   ]
  },
  {
   "cell_type": "code",
   "execution_count": 8,
   "metadata": {},
   "outputs": [
    {
     "data": {
      "text/plain": [
       "'player_1'"
      ]
     },
     "execution_count": 8,
     "metadata": {},
     "output_type": "execute_result"
    }
   ],
   "source": [
    "war_two(player_1, player_2)"
   ]
  },
  {
   "cell_type": "code",
   "execution_count": 9,
   "metadata": {},
   "outputs": [
    {
     "data": {
      "text/plain": [
       "30891"
      ]
     },
     "execution_count": 9,
     "metadata": {},
     "output_type": "execute_result"
    }
   ],
   "source": [
    "sum([(x[0]+1) * x[1] for x in enumerate(player_1[::-1])])"
   ]
  }
 ],
 "metadata": {
  "kernelspec": {
   "display_name": "Python 3",
   "language": "python",
   "name": "python3"
  },
  "language_info": {
   "codemirror_mode": {
    "name": "ipython",
    "version": 3
   },
   "file_extension": ".py",
   "mimetype": "text/x-python",
   "name": "python",
   "nbconvert_exporter": "python",
   "pygments_lexer": "ipython3",
   "version": "3.6.5"
  },
  "toc": {
   "base_numbering": 1,
   "nav_menu": {},
   "number_sections": true,
   "sideBar": true,
   "skip_h1_title": false,
   "title_cell": "Table of Contents",
   "title_sidebar": "Contents",
   "toc_cell": false,
   "toc_position": {},
   "toc_section_display": true,
   "toc_window_display": false
  },
  "varInspector": {
   "cols": {
    "lenName": 16,
    "lenType": 16,
    "lenVar": 40
   },
   "kernels_config": {
    "python": {
     "delete_cmd_postfix": "",
     "delete_cmd_prefix": "del ",
     "library": "var_list.py",
     "varRefreshCmd": "print(var_dic_list())"
    },
    "r": {
     "delete_cmd_postfix": ") ",
     "delete_cmd_prefix": "rm(",
     "library": "var_list.r",
     "varRefreshCmd": "cat(var_dic_list()) "
    }
   },
   "types_to_exclude": [
    "module",
    "function",
    "builtin_function_or_method",
    "instance",
    "_Feature"
   ],
   "window_display": false
  }
 },
 "nbformat": 4,
 "nbformat_minor": 2
}
