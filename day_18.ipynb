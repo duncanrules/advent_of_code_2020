{
 "cells": [
  {
   "cell_type": "code",
   "execution_count": 1,
   "metadata": {},
   "outputs": [],
   "source": [
    "import re\n",
    "\n",
    "with open('day_18.txt', 'r') as f:\n",
    "    problems = f.read().splitlines()"
   ]
  },
  {
   "cell_type": "markdown",
   "metadata": {},
   "source": [
    "# Part 1"
   ]
  },
  {
   "cell_type": "code",
   "execution_count": 2,
   "metadata": {},
   "outputs": [],
   "source": [
    "def push(obj, l, depth):\n",
    "    while depth:\n",
    "        l = l[-1]\n",
    "        depth -= 1\n",
    "\n",
    "    l.append(obj)"
   ]
  },
  {
   "cell_type": "code",
   "execution_count": 3,
   "metadata": {},
   "outputs": [],
   "source": [
    "def parse_parentheses(string):\n",
    "    \"\"\"Push-down automaton.\"\"\"\n",
    "    \n",
    "    groups = []\n",
    "    depth = 0\n",
    "    \n",
    "    for char in string:\n",
    "        if char == '(':\n",
    "            push([], groups, depth)\n",
    "            depth += 1\n",
    "        elif char == ')':\n",
    "            depth -= 1\n",
    "        else:\n",
    "            push(char, groups, depth)\n",
    "            \n",
    "    return(groups)"
   ]
  },
  {
   "cell_type": "code",
   "execution_count": 4,
   "metadata": {},
   "outputs": [],
   "source": [
    "def parse_flat_content(s):\n",
    "    \"\"\"Evaluates a mathematical expression without parentheses in left-to-right order.\"\"\"\n",
    "    \n",
    "    result = re.search(r'([0-9]+)([\\+\\*])([0-9]+)', s)\n",
    "    \n",
    "    if not result:\n",
    "        return(int(s.replace(')', '')))\n",
    "    else:\n",
    "        operation = str(eval(result.group(0)))\n",
    "        return(parse_flat_content(operation + s[result.end():]))\n"
   ]
  },
  {
   "cell_type": "code",
   "execution_count": 5,
   "metadata": {},
   "outputs": [],
   "source": [
    "def parse_nested_content(content_list):\n",
    "    \"\"\"Evaluates a mathematical expression with parentheses using order rules from parse_flat_content().\"\"\"\n",
    "    \n",
    "    eval_str = ''\n",
    "    \n",
    "    for l in content_list:\n",
    "        if type(l) != list:\n",
    "            eval_str += l\n",
    "        else:\n",
    "            eval_str += parse_nested_content(l)\n",
    "        \n",
    "    return(str(parse_flat_content(eval_str)))"
   ]
  },
  {
   "cell_type": "code",
   "execution_count": 6,
   "metadata": {},
   "outputs": [
    {
     "data": {
      "text/plain": [
       "21022630974613"
      ]
     },
     "execution_count": 6,
     "metadata": {},
     "output_type": "execute_result"
    }
   ],
   "source": [
    "sum([int(parse_nested_content(parse_parentheses(p.replace(' ', '')))) for p in problems])"
   ]
  },
  {
   "cell_type": "code",
   "execution_count": 7,
   "metadata": {},
   "outputs": [],
   "source": [
    "def parse_flat_content(s):\n",
    "    \"\"\"Evaluates a mathematical expression without parentheses in PAM order\"\"\"\n",
    "    \n",
    "    result = re.search(r'([0-9]+)([\\+])([0-9]+)', s)\n",
    "    \n",
    "    if not result:\n",
    "        result = re.search(r'([0-9]+)([\\*])([0-9]+)', s)\n",
    "        if not result:\n",
    "            return(int(s.replace(')', '')))\n",
    "\n",
    "    operation = str(eval(result.group(0)))\n",
    "    return(parse_flat_content(s[:result.start()] + operation + s[result.end():]))"
   ]
  },
  {
   "cell_type": "code",
   "execution_count": 8,
   "metadata": {},
   "outputs": [
    {
     "data": {
      "text/plain": [
       "169899524778212"
      ]
     },
     "execution_count": 8,
     "metadata": {},
     "output_type": "execute_result"
    }
   ],
   "source": [
    "sum([int(parse_nested_content(parse_parentheses(p.replace(' ', '')))) for p in problems])"
   ]
  }
 ],
 "metadata": {
  "kernelspec": {
   "display_name": "Python 3",
   "language": "python",
   "name": "python3"
  },
  "language_info": {
   "codemirror_mode": {
    "name": "ipython",
    "version": 3
   },
   "file_extension": ".py",
   "mimetype": "text/x-python",
   "name": "python",
   "nbconvert_exporter": "python",
   "pygments_lexer": "ipython3",
   "version": "3.6.5"
  },
  "toc": {
   "base_numbering": 1,
   "nav_menu": {},
   "number_sections": true,
   "sideBar": true,
   "skip_h1_title": false,
   "title_cell": "Table of Contents",
   "title_sidebar": "Contents",
   "toc_cell": false,
   "toc_position": {},
   "toc_section_display": true,
   "toc_window_display": false
  },
  "varInspector": {
   "cols": {
    "lenName": 16,
    "lenType": 16,
    "lenVar": 40
   },
   "kernels_config": {
    "python": {
     "delete_cmd_postfix": "",
     "delete_cmd_prefix": "del ",
     "library": "var_list.py",
     "varRefreshCmd": "print(var_dic_list())"
    },
    "r": {
     "delete_cmd_postfix": ") ",
     "delete_cmd_prefix": "rm(",
     "library": "var_list.r",
     "varRefreshCmd": "cat(var_dic_list()) "
    }
   },
   "types_to_exclude": [
    "module",
    "function",
    "builtin_function_or_method",
    "instance",
    "_Feature"
   ],
   "window_display": false
  }
 },
 "nbformat": 4,
 "nbformat_minor": 2
}
