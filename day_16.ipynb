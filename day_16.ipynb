{
 "cells": [
  {
   "cell_type": "code",
   "execution_count": 1,
   "metadata": {},
   "outputs": [],
   "source": [
    "import re\n",
    "import numpy as np\n",
    "import operator\n",
    "import functools\n",
    "import datetime\n",
    "\n",
    "with open('day_16.txt', 'r') as f:\n",
    "    full_text = f.read()"
   ]
  },
  {
   "cell_type": "code",
   "execution_count": 2,
   "metadata": {},
   "outputs": [],
   "source": [
    "rules, my_ticket, tickets = full_text.split('\\n\\n')"
   ]
  },
  {
   "cell_type": "code",
   "execution_count": 3,
   "metadata": {},
   "outputs": [],
   "source": [
    "rules = rules.split('\\n')\n",
    "tickets = [ticket.split(',') for ticket in tickets.split('\\n') if ticket != 'nearby tickets:']\n",
    "tickets = [[int(x) for x in lst] for lst in tickets]\n",
    "my_ticket = my_ticket.replace('your ticket:\\n', '').split(',')"
   ]
  },
  {
   "cell_type": "markdown",
   "metadata": {},
   "source": [
    "# Part 1"
   ]
  },
  {
   "cell_type": "code",
   "execution_count": 4,
   "metadata": {},
   "outputs": [],
   "source": [
    "# create a set of all valid numbers for part 1\n",
    "valid_nums = set()\n",
    "# create a rule dictionary for part 2\n",
    "rule_dict = dict()\n",
    "\n",
    "for rule in rules:\n",
    "    \n",
    "    new_set = set()\n",
    "    \n",
    "    # parse out rule name and ranges\n",
    "    r, lo_1, hi_1, lo_2, hi_2 = re.search(r'([a-z]+[ ]?[a-z]*): ([0-9]+)-([0-9]+) or ([0-9]+)-([0-9]+)', rule).group(1, 2, 3, 4, 5)\n",
    "    \n",
    "    # add to appropriate structures\n",
    "    valid_nums.update(range(int(lo_1), int(hi_1)+1))\n",
    "    valid_nums.update(range(int(lo_2), int(hi_2)+1))\n",
    "    \n",
    "    new_set.update(range(int(lo_1), int(hi_1)+1))\n",
    "    new_set.update(range(int(lo_2), int(hi_2)+1))\n",
    "    \n",
    "    rule_dict[r] = new_set"
   ]
  },
  {
   "cell_type": "code",
   "execution_count": 5,
   "metadata": {},
   "outputs": [],
   "source": [
    "invalid_numbers = [list(set(x) - valid_nums) for x in tickets]"
   ]
  },
  {
   "cell_type": "code",
   "execution_count": 6,
   "metadata": {},
   "outputs": [
    {
     "data": {
      "text/plain": [
       "20060"
      ]
     },
     "execution_count": 6,
     "metadata": {},
     "output_type": "execute_result"
    }
   ],
   "source": [
    "sum([item for sublist in invalid_numbers for item in sublist])"
   ]
  },
  {
   "cell_type": "markdown",
   "metadata": {},
   "source": [
    "# Part 2"
   ]
  },
  {
   "cell_type": "code",
   "execution_count": 7,
   "metadata": {},
   "outputs": [],
   "source": [
    "# get valid tickets\n",
    "valid_tickets = []\n",
    "\n",
    "for ticket in tickets:\n",
    "    \n",
    "    if len(set(ticket) - valid_nums) == 0:\n",
    "        valid_tickets.append(ticket)\n",
    "        "
   ]
  },
  {
   "cell_type": "code",
   "execution_count": 8,
   "metadata": {},
   "outputs": [],
   "source": [
    "# create dict where keys are class names and values are possible column numbers\n",
    "column_dict = dict()\n",
    "\n",
    "for key, value in rule_dict.items():\n",
    "    \n",
    "    column_dict[key] = set(range(20))"
   ]
  },
  {
   "cell_type": "code",
   "execution_count": 9,
   "metadata": {},
   "outputs": [],
   "source": [
    "solved_cols = set()\n",
    "solved_col_dict = dict()"
   ]
  },
  {
   "cell_type": "code",
   "execution_count": 10,
   "metadata": {},
   "outputs": [
    {
     "name": "stdout",
     "output_type": "stream",
     "text": [
      "0:00:00.223401\n"
     ]
    }
   ],
   "source": [
    "start = datetime.datetime.now()\n",
    "while len(solved_cols) < 20:\n",
    "    \n",
    "    for ticket in valid_tickets:\n",
    "\n",
    "        # look at every value in the ticket (if that column hasn't been solved)\n",
    "        for i in range(20):\n",
    "\n",
    "            # look at every rule\n",
    "            for key, value in rule_dict.items():\n",
    "\n",
    "                # eliminate solved possibilities\n",
    "                if solved_col_dict.get(i, key) != key:\n",
    "\n",
    "                    column_dict[key] = column_dict[key] - set([i])\n",
    "\n",
    "                # check if the rule is solved\n",
    "                if len(column_dict[key]) == 1:\n",
    "                    solved_cols.update(column_dict[key])\n",
    "                    solved_col_dict[next(iter(column_dict[key]))] = key\n",
    "\n",
    "                # if the ticket value isn't valid for that column, remove the column as a possibility\n",
    "                elif ticket[i] not in value:\n",
    "                    column_dict[key] = column_dict[key] - set([i])\n",
    "\n",
    "print(datetime.datetime.now() - start)"
   ]
  },
  {
   "cell_type": "code",
   "execution_count": 11,
   "metadata": {},
   "outputs": [
    {
     "data": {
      "text/plain": [
       "2843534243843"
      ]
     },
     "execution_count": 11,
     "metadata": {},
     "output_type": "execute_result"
    }
   ],
   "source": [
    "functools.reduce(operator.mul, [int(my_ticket[i]) for i in range(20) if 'departure' in solved_col_dict[i]], 1)"
   ]
  }
 ],
 "metadata": {
  "kernelspec": {
   "display_name": "Python 3",
   "language": "python",
   "name": "python3"
  },
  "language_info": {
   "codemirror_mode": {
    "name": "ipython",
    "version": 3
   },
   "file_extension": ".py",
   "mimetype": "text/x-python",
   "name": "python",
   "nbconvert_exporter": "python",
   "pygments_lexer": "ipython3",
   "version": "3.6.5"
  },
  "toc": {
   "base_numbering": 1,
   "nav_menu": {},
   "number_sections": true,
   "sideBar": true,
   "skip_h1_title": false,
   "title_cell": "Table of Contents",
   "title_sidebar": "Contents",
   "toc_cell": false,
   "toc_position": {},
   "toc_section_display": true,
   "toc_window_display": false
  },
  "varInspector": {
   "cols": {
    "lenName": 16,
    "lenType": 16,
    "lenVar": 40
   },
   "kernels_config": {
    "python": {
     "delete_cmd_postfix": "",
     "delete_cmd_prefix": "del ",
     "library": "var_list.py",
     "varRefreshCmd": "print(var_dic_list())"
    },
    "r": {
     "delete_cmd_postfix": ") ",
     "delete_cmd_prefix": "rm(",
     "library": "var_list.r",
     "varRefreshCmd": "cat(var_dic_list()) "
    }
   },
   "types_to_exclude": [
    "module",
    "function",
    "builtin_function_or_method",
    "instance",
    "_Feature"
   ],
   "window_display": false
  }
 },
 "nbformat": 4,
 "nbformat_minor": 2
}
