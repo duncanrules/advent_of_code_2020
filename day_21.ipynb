{
 "cells": [
  {
   "cell_type": "code",
   "execution_count": 1,
   "metadata": {},
   "outputs": [],
   "source": [
    "from collections import defaultdict\n",
    "\n",
    "with open('day_21.txt', 'r') as f:\n",
    "    foods = f.read().splitlines()"
   ]
  },
  {
   "cell_type": "markdown",
   "metadata": {},
   "source": [
    "# Part 1"
   ]
  },
  {
   "cell_type": "code",
   "execution_count": 2,
   "metadata": {},
   "outputs": [],
   "source": [
    "food_dict = defaultdict(list)\n",
    "all_ingredients = set()\n",
    "\n",
    "# create dict of allergens with possible ingredients listed\n",
    "for food in foods:\n",
    "    \n",
    "    ingredients = [x for x in food.split('(')[0].split(' ') if x != '']\n",
    "    all_ingredients.update(ingredients)\n",
    "    allergens = food.split('(')[1].replace('contains ', '').replace(')', '').split(',')\n",
    "    \n",
    "    for allergen in allergens:\n",
    "        food_dict[allergen.replace(' ', '')].append(set(ingredients))"
   ]
  },
  {
   "cell_type": "code",
   "execution_count": 3,
   "metadata": {},
   "outputs": [],
   "source": [
    "completed_allergens = set()\n",
    "completed_ingredients = set()\n",
    "l = -1\n",
    "\n",
    "while len(completed_allergens) > l:\n",
    "    \n",
    "    l = len(completed_allergens)\n",
    "    \n",
    "    # loop through food items\n",
    "    for key, value in food_dict.items():\n",
    "\n",
    "        # if the allergen is already figured out, continue\n",
    "        if key in completed_allergens:\n",
    "            continue\n",
    "        \n",
    "        # on the first loop, reduce the allergen possibilities to their set intersections\n",
    "        try:\n",
    "            food_dict[key] = set.intersection(*value)\n",
    "        except:\n",
    "            pass\n",
    "        \n",
    "        # remove already completed ingredients from the possibles\n",
    "        food_dict[key] = food_dict[key] - completed_ingredients\n",
    "\n",
    "        # if there's only one possible ingredient, it's complete\n",
    "        if len(food_dict[key]) == 1:\n",
    "            completed_allergens.add(key)\n",
    "            (ingred,) = food_dict[key]\n",
    "            completed_ingredients.add(ingred)\n",
    "    \n",
    "    "
   ]
  },
  {
   "cell_type": "code",
   "execution_count": 4,
   "metadata": {},
   "outputs": [
    {
     "data": {
      "text/plain": [
       "1885"
      ]
     },
     "execution_count": 4,
     "metadata": {},
     "output_type": "execute_result"
    }
   ],
   "source": [
    "sum([''.join(foods).count(ing) for ing in all_ingredients - completed_ingredients])"
   ]
  },
  {
   "cell_type": "markdown",
   "metadata": {},
   "source": [
    "# Part 2"
   ]
  },
  {
   "cell_type": "code",
   "execution_count": 5,
   "metadata": {},
   "outputs": [],
   "source": [
    "# get out of sets since there's only one element\n",
    "tups = [(key, list(value)[0]) for key, value in food_dict.items()]"
   ]
  },
  {
   "cell_type": "code",
   "execution_count": 6,
   "metadata": {},
   "outputs": [
    {
     "data": {
      "text/plain": [
       "'fllssz,kgbzf,zcdcdf,pzmg,kpsdtv,fvvrc,dqbjj,qpxhfp'"
      ]
     },
     "execution_count": 6,
     "metadata": {},
     "output_type": "execute_result"
    }
   ],
   "source": [
    "','.join([t[1] for t in sorted(tups, key=lambda x: x[0])])"
   ]
  }
 ],
 "metadata": {
  "kernelspec": {
   "display_name": "Python 3",
   "language": "python",
   "name": "python3"
  },
  "toc": {
   "base_numbering": 1,
   "nav_menu": {},
   "number_sections": true,
   "sideBar": true,
   "skip_h1_title": false,
   "title_cell": "Table of Contents",
   "title_sidebar": "Contents",
   "toc_cell": false,
   "toc_position": {},
   "toc_section_display": true,
   "toc_window_display": false
  },
  "varInspector": {
   "cols": {
    "lenName": 16,
    "lenType": 16,
    "lenVar": 40
   },
   "kernels_config": {
    "python": {
     "delete_cmd_postfix": "",
     "delete_cmd_prefix": "del ",
     "library": "var_list.py",
     "varRefreshCmd": "print(var_dic_list())"
    },
    "r": {
     "delete_cmd_postfix": ") ",
     "delete_cmd_prefix": "rm(",
     "library": "var_list.r",
     "varRefreshCmd": "cat(var_dic_list()) "
    }
   },
   "types_to_exclude": [
    "module",
    "function",
    "builtin_function_or_method",
    "instance",
    "_Feature"
   ],
   "window_display": false
  }
 },
 "nbformat": 4,
 "nbformat_minor": 2
}
