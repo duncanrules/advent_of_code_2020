{
 "cells": [
  {
   "cell_type": "code",
   "execution_count": 1,
   "metadata": {
    "collapsed": true
   },
   "outputs": [],
   "source": [
    "import re\n",
    "import itertools\n",
    "import copy\n",
    "with open('day_24.txt', 'r') as f:\n",
    "    directions = f.read().splitlines()"
   ]
  },
  {
   "cell_type": "code",
   "execution_count": 2,
   "metadata": {
    "collapsed": true
   },
   "outputs": [],
   "source": [
    "direction_dict = {\n",
    "    'e': (1, -1, 0),\n",
    "    'w': (-1, 1, 0),\n",
    "    'ne': (0, -1, 1),\n",
    "    'nw': (-1, 0, 1),\n",
    "    'se': (1, 0, -1),\n",
    "    'sw': (0, 1, -1)\n",
    "}"
   ]
  },
  {
   "cell_type": "markdown",
   "metadata": {},
   "source": [
    "# Part 1"
   ]
  },
  {
   "cell_type": "code",
   "execution_count": 3,
   "metadata": {
    "collapsed": true
   },
   "outputs": [],
   "source": [
    "def get_hex_coord(direction):\n",
    "    \"\"\"Follows string direction from the starting tile (0, 0, 0) and returns coordinates\"\"\"\n",
    "    \n",
    "    coords = (0, 0, 0)\n",
    "    \n",
    "    while len(direction) > 0:\n",
    "        \n",
    "        step = re.search('e|w|nw|sw|se|ne', direction).group(0)\n",
    "        coords = [sum(x) for x in zip(coords, direction_dict[step])]\n",
    "        direction = direction[len(step):]\n",
    "        \n",
    "    return(coords)  "
   ]
  },
  {
   "cell_type": "code",
   "execution_count": 4,
   "metadata": {},
   "outputs": [],
   "source": [
    "tile_dict = dict()\n",
    "\n",
    "for d in directions:\n",
    "    \n",
    "    id_tile = tuple(get_hex_coord(d))\n",
    "    tile_dict[id_tile] = not tile_dict.get(id_tile, False)"
   ]
  },
  {
   "cell_type": "code",
   "execution_count": 5,
   "metadata": {},
   "outputs": [
    {
     "data": {
      "text/plain": [
       "382"
      ]
     },
     "execution_count": 5,
     "metadata": {},
     "output_type": "execute_result"
    }
   ],
   "source": [
    "sum(tile_dict.values())"
   ]
  },
  {
   "cell_type": "markdown",
   "metadata": {},
   "source": [
    "# Part 2"
   ]
  },
  {
   "cell_type": "code",
   "execution_count": 6,
   "metadata": {},
   "outputs": [],
   "source": [
    "def get_neighbors(coord):\n",
    "    \"\"\"Get six neighbors on a hex grid\"\"\"\n",
    "    neighbors = [list(range(coord[0]-1, coord[0]+2)), list(range(coord[1]-1, coord[1]+2)), list(range(coord[2]-1, coord[2]+2))]\n",
    "    neighbors = [x for x in list(itertools.product(*neighbors)) if sum(x) == 0]\n",
    "    neighbors.remove(coord)\n",
    "    return(neighbors)"
   ]
  },
  {
   "cell_type": "code",
   "execution_count": 7,
   "metadata": {},
   "outputs": [],
   "source": [
    "for _ in range(100):\n",
    "\n",
    "    new_dict = dict()\n",
    "    for key, value in tile_dict.items():\n",
    "\n",
    "        # don't check if it's already been evaluated\n",
    "        if key in new_dict.keys():\n",
    "            pass\n",
    "\n",
    "        # get neighbors\n",
    "        neighbors = get_neighbors(key)\n",
    "        black_neighbors = sum([tile_dict.get(n, False) for n in neighbors])\n",
    "\n",
    "        if value:\n",
    "\n",
    "            # set new value based on number of black neighbors\n",
    "            new_dict[key] = black_neighbors in (1, 2)\n",
    "\n",
    "            # if the tile is black we also have to evaluate its neighbors\n",
    "            # which may not yet be in our dict\n",
    "            for n in neighbors:\n",
    "\n",
    "                if n in new_dict.keys():\n",
    "                    pass\n",
    "\n",
    "                # same process as outer loop\n",
    "                deep_neighbors = get_neighbors(n)\n",
    "                deep_black_neighbors = sum([tile_dict.get(x, False) for x in deep_neighbors])\n",
    "                if tile_dict.get(n, False):\n",
    "                    new_dict[n] = deep_black_neighbors in (1, 2)\n",
    "                else:\n",
    "                    new_dict[n] = (deep_black_neighbors == 2)\n",
    "\n",
    "        else:\n",
    "            new_dict[key] = (black_neighbors == 2)\n",
    "\n",
    "\n",
    "    tile_dict = copy.deepcopy(new_dict)   "
   ]
  },
  {
   "cell_type": "code",
   "execution_count": 8,
   "metadata": {},
   "outputs": [
    {
     "data": {
      "text/plain": [
       "3964"
      ]
     },
     "execution_count": 8,
     "metadata": {},
     "output_type": "execute_result"
    }
   ],
   "source": [
    "sum(new_dict.values())"
   ]
  }
 ],
 "metadata": {
  "kernelspec": {
   "display_name": "Python 3",
   "language": "python",
   "name": "python3"
  },
  "varInspector": {
   "cols": {
    "lenName": 16,
    "lenType": 16,
    "lenVar": 40
   },
   "kernels_config": {
    "python": {
     "delete_cmd_postfix": "",
     "delete_cmd_prefix": "del ",
     "library": "var_list.py",
     "varRefreshCmd": "print(var_dic_list())"
    },
    "r": {
     "delete_cmd_postfix": ") ",
     "delete_cmd_prefix": "rm(",
     "library": "var_list.r",
     "varRefreshCmd": "cat(var_dic_list()) "
    }
   },
   "types_to_exclude": [
    "module",
    "function",
    "builtin_function_or_method",
    "instance",
    "_Feature"
   ],
   "window_display": false
  }
 },
 "nbformat": 4,
 "nbformat_minor": 2
}
