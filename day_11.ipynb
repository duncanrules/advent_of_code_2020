{
 "cells": [
  {
   "cell_type": "code",
   "execution_count": 1,
   "metadata": {},
   "outputs": [],
   "source": [
    "from collections import defaultdict\n",
    "import copy\n",
    "\n",
    "with open('day_11.txt', 'r') as f:\n",
    "    seat_grid = f.read().splitlines()"
   ]
  },
  {
   "cell_type": "markdown",
   "metadata": {},
   "source": [
    "# Part 1"
   ]
  },
  {
   "cell_type": "code",
   "execution_count": 2,
   "metadata": {},
   "outputs": [],
   "source": [
    "def get_seat_dict(seat_grid):\n",
    "    \n",
    "    seat_dict = defaultdict(str)\n",
    "\n",
    "    for y in range(len(seat_grid)):\n",
    "        for x in range(len(seat_grid[y])):\n",
    "            seat_dict[(x, y)] = seat_grid[y][x]\n",
    "    \n",
    "    return(seat_dict)"
   ]
  },
  {
   "cell_type": "code",
   "execution_count": 3,
   "metadata": {},
   "outputs": [],
   "source": [
    "def update_seat(coordinates, sd):\n",
    "    \n",
    "    if sd[coordinates] == '.':\n",
    "        return('.')\n",
    "    \n",
    "    neighbors = []\n",
    "    for x in range(coordinates[0] - 1, coordinates[0] + 2):\n",
    "        for y in range(coordinates[1] - 1, coordinates[1] + 2):\n",
    "            if x != coordinates[0] or y != coordinates[1]:\n",
    "                neighbors.append(sd.get((x, y), '.'))\n",
    "            \n",
    "    if sd[coordinates] == 'L' and neighbors.count('#') == 0:\n",
    "        return('#')\n",
    "    elif sd[coordinates] == '#' and neighbors.count('#') >= 4:\n",
    "        return('L')\n",
    "    else:\n",
    "        return(sd[coordinates])"
   ]
  },
  {
   "cell_type": "code",
   "execution_count": 4,
   "metadata": {},
   "outputs": [],
   "source": [
    "def iterate_grid(grid):\n",
    "    \n",
    "    sd = get_seat_dict(grid)\n",
    "    changes = 999\n",
    "    \n",
    "    while changes > 0:\n",
    "        \n",
    "        changes = 0\n",
    "        new_dict = defaultdict(str)\n",
    "    \n",
    "        for y in range(len(grid)):\n",
    "            for x in range(len(grid[y])):\n",
    "                \n",
    "                updated_seat = update_seat((x, y), sd)\n",
    "                if updated_seat != sd[(x, y)]:\n",
    "                    changes += 1\n",
    "                new_dict[(x, y)] = updated_seat\n",
    "                \n",
    "        sd = copy.deepcopy(new_dict)\n",
    "        \n",
    "    return(len([seat for seat in sd.values() if seat == '#']))"
   ]
  },
  {
   "cell_type": "code",
   "execution_count": 5,
   "metadata": {
    "scrolled": true
   },
   "outputs": [
    {
     "data": {
      "text/plain": [
       "2386"
      ]
     },
     "execution_count": 5,
     "metadata": {},
     "output_type": "execute_result"
    }
   ],
   "source": [
    "iterate_grid(seat_grid)"
   ]
  },
  {
   "cell_type": "markdown",
   "metadata": {},
   "source": [
    "# Part 2"
   ]
  },
  {
   "cell_type": "code",
   "execution_count": 6,
   "metadata": {},
   "outputs": [],
   "source": [
    "def scope_direction(coordinates, sd, direction, width=93, height=98):\n",
    "    \n",
    "    i = coordinates[0]\n",
    "    j = coordinates[1]\n",
    "    \n",
    "    while i < width and j < height:\n",
    "        \n",
    "        if direction == 'left':\n",
    "            i += -1\n",
    "        elif direction == 'right':\n",
    "            i += 1\n",
    "        elif direction == 'up':\n",
    "            j += -1\n",
    "        elif direction == 'down':\n",
    "            j += 1\n",
    "        elif direction == 'downright':\n",
    "            i += 1\n",
    "            j += 1\n",
    "        elif direction == 'upright':\n",
    "            i += 1\n",
    "            j += -1\n",
    "        elif direction == 'downleft':\n",
    "            i += -1\n",
    "            j += 1\n",
    "        elif direction == 'upleft':\n",
    "            i += -1\n",
    "            j += -1\n",
    "            \n",
    "        if sd[(i, j)] != '.':\n",
    "            return(sd[(i, j)])\n",
    "        \n",
    "    return('.')"
   ]
  },
  {
   "cell_type": "code",
   "execution_count": 7,
   "metadata": {},
   "outputs": [],
   "source": [
    "def update_seat(coordinates, sd):\n",
    "    \n",
    "    if sd[coordinates] == '.':\n",
    "        return('.')\n",
    "    \n",
    "    neighbors = []\n",
    "    \n",
    "    neighbors.append(scope_direction(coordinates, sd, 'left'))\n",
    "    neighbors.append(scope_direction(coordinates, sd, 'right'))\n",
    "    neighbors.append(scope_direction(coordinates, sd, 'up'))\n",
    "    neighbors.append(scope_direction(coordinates, sd, 'down'))\n",
    "    neighbors.append(scope_direction(coordinates, sd, 'upright'))\n",
    "    neighbors.append(scope_direction(coordinates, sd, 'upleft'))\n",
    "    neighbors.append(scope_direction(coordinates, sd, 'downright'))\n",
    "    neighbors.append(scope_direction(coordinates, sd, 'downleft'))\n",
    "    \n",
    "    if sd[coordinates] == 'L' and neighbors.count('#') == 0:\n",
    "        return('#')\n",
    "    elif sd[coordinates] == '#' and neighbors.count('#') >= 5:\n",
    "        return('L')\n",
    "    else:\n",
    "        return(sd[coordinates])"
   ]
  },
  {
   "cell_type": "code",
   "execution_count": 8,
   "metadata": {},
   "outputs": [
    {
     "data": {
      "text/plain": [
       "2091"
      ]
     },
     "execution_count": 8,
     "metadata": {},
     "output_type": "execute_result"
    }
   ],
   "source": [
    "iterate_grid(seat_grid)"
   ]
  }
 ],
 "metadata": {
  "kernelspec": {
   "display_name": "Python 3",
   "language": "python",
   "name": "python3"
  },
  "language_info": {
   "codemirror_mode": {
    "name": "ipython",
    "version": 3
   },
   "file_extension": ".py",
   "mimetype": "text/x-python",
   "name": "python",
   "nbconvert_exporter": "python",
   "pygments_lexer": "ipython3",
   "version": "3.6.5"
  },
  "toc": {
   "base_numbering": 1,
   "nav_menu": {},
   "number_sections": true,
   "sideBar": true,
   "skip_h1_title": false,
   "title_cell": "Table of Contents",
   "title_sidebar": "Contents",
   "toc_cell": false,
   "toc_position": {},
   "toc_section_display": true,
   "toc_window_display": false
  },
  "varInspector": {
   "cols": {
    "lenName": 16,
    "lenType": 16,
    "lenVar": 40
   },
   "kernels_config": {
    "python": {
     "delete_cmd_postfix": "",
     "delete_cmd_prefix": "del ",
     "library": "var_list.py",
     "varRefreshCmd": "print(var_dic_list())"
    },
    "r": {
     "delete_cmd_postfix": ") ",
     "delete_cmd_prefix": "rm(",
     "library": "var_list.r",
     "varRefreshCmd": "cat(var_dic_list()) "
    }
   },
   "types_to_exclude": [
    "module",
    "function",
    "builtin_function_or_method",
    "instance",
    "_Feature"
   ],
   "window_display": false
  }
 },
 "nbformat": 4,
 "nbformat_minor": 2
}
