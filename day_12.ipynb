{
 "cells": [
  {
   "cell_type": "code",
   "execution_count": 1,
   "metadata": {
    "collapsed": true
   },
   "outputs": [],
   "source": [
    "import numpy as np\n",
    "\n",
    "with open('day_12.txt', 'r') as f:\n",
    "    instructions = f.read().splitlines()"
   ]
  },
  {
   "cell_type": "code",
   "execution_count": 2,
   "metadata": {
    "collapsed": true
   },
   "outputs": [],
   "source": [
    "circle_dict = dict()\n",
    "circle_dict[0] = 'N'\n",
    "circle_dict[90] = 'E'\n",
    "circle_dict[180] = 'S'\n",
    "circle_dict[270] = 'W'"
   ]
  },
  {
   "cell_type": "markdown",
   "metadata": {},
   "source": [
    "# Part 1"
   ]
  },
  {
   "cell_type": "code",
   "execution_count": 3,
   "metadata": {
    "collapsed": true
   },
   "outputs": [],
   "source": [
    "def move_ship(coordinates, instruction, facing):\n",
    "\n",
    "    # get new direction and return same coordinates if instruction was just rotation\n",
    "    if instruction[0] in 'EWNS':\n",
    "        current_direction = instruction[0]\n",
    "    elif instruction[0] == 'R':\n",
    "        facing = (facing + int(instruction[1:])) % 360\n",
    "        return(coordinates, facing)\n",
    "    elif instruction[0] == 'L':\n",
    "        facing = (facing - int(instruction[1:])) % 360\n",
    "        return(coordinates, facing)\n",
    "    else:\n",
    "        current_direction = circle_dict[facing]\n",
    "    \n",
    "    # step in the relevant direction\n",
    "    if current_direction == 'E':\n",
    "        return((coordinates[0] + int(instruction[1:]), coordinates[1]), facing)\n",
    "    if current_direction == 'W':\n",
    "        return((coordinates[0] - int(instruction[1:]), coordinates[1]), facing)\n",
    "    if current_direction == 'N':\n",
    "        return((coordinates[0], coordinates[1] + int(instruction[1:])), facing)\n",
    "    if current_direction == 'S':\n",
    "        return((coordinates[0], coordinates[1] - int(instruction[1:])), facing)"
   ]
  },
  {
   "cell_type": "code",
   "execution_count": 4,
   "metadata": {},
   "outputs": [
    {
     "data": {
      "text/plain": [
       "1533"
      ]
     },
     "execution_count": 4,
     "metadata": {},
     "output_type": "execute_result"
    }
   ],
   "source": [
    "coords = (0, 0)\n",
    "facing = 90\n",
    "\n",
    "for inst in instructions:\n",
    "    \n",
    "    coords, facing = move_ship(coords, inst, facing)\n",
    "    \n",
    "abs(coords[0]) + abs(coords[1])"
   ]
  },
  {
   "cell_type": "markdown",
   "metadata": {},
   "source": [
    "# Part 2"
   ]
  },
  {
   "cell_type": "code",
   "execution_count": 5,
   "metadata": {
    "collapsed": true
   },
   "outputs": [],
   "source": [
    "def rotate_point(coordinates, instruction):\n",
    "    '''Rotate a point about the origin given (x, y) coordinates and a rotation instruction'''\n",
    "    \n",
    "    if instruction == 'R90' or instruction == 'L270':\n",
    "        return((coordinates[1], 0-coordinates[0]))\n",
    "    if instruction == 'R180' or instruction == 'L180':\n",
    "        return((0-coordinates[0], 0-coordinates[1]))\n",
    "    if instruction == 'R270' or instruction == 'L90':\n",
    "        return((0-coordinates[1], coordinates[0]))\n",
    "    "
   ]
  },
  {
   "cell_type": "code",
   "execution_count": 6,
   "metadata": {
    "collapsed": true
   },
   "outputs": [],
   "source": [
    "def move_ship(coordinates, instruction, waypoint):\n",
    "    \n",
    "    # move the waypoint through coordinate addition or rotation\n",
    "    if instruction[0] == 'E':\n",
    "        return(coordinates, (waypoint[0] + int(instruction[1:]), waypoint[1]))\n",
    "    elif instruction[0] == 'W':\n",
    "        return(coordinates, (waypoint[0] - int(instruction[1:]), waypoint[1]))\n",
    "    elif instruction[0] == 'N':\n",
    "        return(coordinates, (waypoint[0], waypoint[1] + int(instruction[1:])))\n",
    "    elif instruction[0] == 'S':\n",
    "        return(coordinates, (waypoint[0], waypoint[1] - int(instruction[1:])))\n",
    "    elif instruction[0] in 'LR':\n",
    "        return(coordinates, rotate_point(waypoint, instruction))\n",
    "    \n",
    "    # move toward the waypoint\n",
    "    else:\n",
    "        x = int(instruction[1:]) * waypoint[0]\n",
    "        y = int(instruction[1:]) * waypoint[1]\n",
    "        return((coordinates[0]+x, coordinates[1]+y), waypoint)\n",
    "    "
   ]
  },
  {
   "cell_type": "code",
   "execution_count": 7,
   "metadata": {},
   "outputs": [
    {
     "data": {
      "text/plain": [
       "25235"
      ]
     },
     "execution_count": 7,
     "metadata": {},
     "output_type": "execute_result"
    }
   ],
   "source": [
    "coords = (0, 0)\n",
    "waypoint = (10, 1)\n",
    "\n",
    "for inst in instructions:\n",
    "    \n",
    "    coords, waypoint = move_ship(coords, inst, waypoint)\n",
    "    \n",
    "abs(coords[0]) + abs(coords[1])"
   ]
  }
 ],
 "metadata": {
  "kernelspec": {
   "display_name": "Python 3",
   "language": "python",
   "name": "python3"
  },
  "varInspector": {
   "cols": {
    "lenName": 16,
    "lenType": 16,
    "lenVar": 40
   },
   "kernels_config": {
    "python": {
     "delete_cmd_postfix": "",
     "delete_cmd_prefix": "del ",
     "library": "var_list.py",
     "varRefreshCmd": "print(var_dic_list())"
    },
    "r": {
     "delete_cmd_postfix": ") ",
     "delete_cmd_prefix": "rm(",
     "library": "var_list.r",
     "varRefreshCmd": "cat(var_dic_list()) "
    }
   },
   "types_to_exclude": [
    "module",
    "function",
    "builtin_function_or_method",
    "instance",
    "_Feature"
   ],
   "window_display": false
  }
 },
 "nbformat": 4,
 "nbformat_minor": 2
}
