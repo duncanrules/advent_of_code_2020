{
 "cells": [
  {
   "cell_type": "code",
   "execution_count": 1,
   "metadata": {},
   "outputs": [],
   "source": [
    "from collections import defaultdict\n",
    "import re\n",
    "\n",
    "with open('day_7.txt', 'r') as f:\n",
    "    bags = f.read().splitlines()"
   ]
  },
  {
   "cell_type": "code",
   "execution_count": 2,
   "metadata": {},
   "outputs": [],
   "source": [
    "def get_bag_rules(bag):\n",
    "    \n",
    "    lines = [re.sub(r' bag[s]?[\\.]?', '', b) for b in bag.split(' contain ')]\n",
    "    bag_name = lines[0]\n",
    "    bag_contents = lines[1].split(', ')\n",
    "    \n",
    "    result = []\n",
    "    \n",
    "    if 'no other' not in bag_contents:\n",
    "        for content in bag_contents:\n",
    "            result += [content[2:]] * int(content[0])\n",
    "            \n",
    "    return((bag_name, result))\n",
    "        "
   ]
  },
  {
   "cell_type": "code",
   "execution_count": 3,
   "metadata": {},
   "outputs": [],
   "source": [
    "rules = dict([get_bag_rules(bag) for bag in bags])"
   ]
  },
  {
   "cell_type": "markdown",
   "metadata": {},
   "source": [
    "# Part 1"
   ]
  },
  {
   "cell_type": "code",
   "execution_count": 4,
   "metadata": {},
   "outputs": [
    {
     "name": "stdout",
     "output_type": "stream",
     "text": [
      "7 loops through bag list to converge\n"
     ]
    }
   ],
   "source": [
    "# assuming the recursive approach will take a while even though it's elegant\n",
    "# instead going for an iteration over the top level until convergence\n",
    "\n",
    "# create \"winner\" list of bags containing shiny gold, starting with shiny gold itself\n",
    "winners = set(['shiny gold'])\n",
    "\n",
    "prev_len = 0\n",
    "iterations = 0\n",
    "\n",
    "# go through bags and add them to the \"winner\" list if they contain any bags in the \"winner\" list\n",
    "# do this until the \"winner\" list has converged\n",
    "\n",
    "while len(winners) > prev_len:\n",
    "    \n",
    "    prev_len = len(winners)\n",
    "    \n",
    "    for key, value in rules.items():\n",
    "        if any(x in winners for x in value):\n",
    "            winners.add(key)\n",
    "            \n",
    "    iterations += 1\n",
    "    \n",
    "print('{} loops through bag list to converge'.format(iterations))"
   ]
  },
  {
   "cell_type": "code",
   "execution_count": 5,
   "metadata": {},
   "outputs": [
    {
     "data": {
      "text/plain": [
       "139"
      ]
     },
     "execution_count": 5,
     "metadata": {},
     "output_type": "execute_result"
    }
   ],
   "source": [
    "# subtract one to ignore 'shiny gold' itself\n",
    "len(winners) - 1"
   ]
  },
  {
   "cell_type": "markdown",
   "metadata": {},
   "source": [
    "# Part 2"
   ]
  },
  {
   "cell_type": "code",
   "execution_count": 6,
   "metadata": {},
   "outputs": [],
   "source": [
    "# create new dictionary to hold sizes\n",
    "size_dict = dict()\n",
    "\n",
    "for key, value in rules.items():\n",
    "    size_dict[key] = len(value)"
   ]
  },
  {
   "cell_type": "code",
   "execution_count": 7,
   "metadata": {},
   "outputs": [
    {
     "name": "stdout",
     "output_type": "stream",
     "text": [
      "14 loops through bag list to converge\n"
     ]
    }
   ],
   "source": [
    "# iteratively add up sizes within bags until convergence\n",
    "\n",
    "prev_len = 0\n",
    "iterations = 0\n",
    "while sum([val for key, val in size_dict.items()]) > prev_len:\n",
    "    \n",
    "    # check against total number of bags from last iteration\n",
    "    prev_len = sum([val for key, val in size_dict.items()])\n",
    "\n",
    "    # step through bags\n",
    "    for key, value in rules.items():\n",
    "\n",
    "        # add up sizes of ONLY the first level\n",
    "        new_size = 0\n",
    "        for bag in value:\n",
    "            new_size += 1 + size_dict[bag]\n",
    "\n",
    "        # update size dictionary\n",
    "        size_dict[key] = new_size\n",
    "        \n",
    "    iterations += 1\n",
    "    \n",
    "print('{} loops through bag list to converge'.format(iterations))"
   ]
  },
  {
   "cell_type": "code",
   "execution_count": 8,
   "metadata": {},
   "outputs": [
    {
     "data": {
      "text/plain": [
       "58175"
      ]
     },
     "execution_count": 8,
     "metadata": {},
     "output_type": "execute_result"
    }
   ],
   "source": [
    "size_dict['shiny gold']"
   ]
  }
 ],
 "metadata": {
  "kernelspec": {
   "display_name": "Python 3",
   "language": "python",
   "name": "python3"
  },
  "language_info": {
   "codemirror_mode": {
    "name": "ipython",
    "version": 3
   },
   "file_extension": ".py",
   "mimetype": "text/x-python",
   "name": "python",
   "nbconvert_exporter": "python",
   "pygments_lexer": "ipython3",
   "version": "3.6.5"
  },
  "toc": {
   "base_numbering": 1,
   "nav_menu": {},
   "number_sections": true,
   "sideBar": true,
   "skip_h1_title": false,
   "title_cell": "Table of Contents",
   "title_sidebar": "Contents",
   "toc_cell": false,
   "toc_position": {},
   "toc_section_display": true,
   "toc_window_display": false
  },
  "varInspector": {
   "cols": {
    "lenName": 16,
    "lenType": 16,
    "lenVar": 40
   },
   "kernels_config": {
    "python": {
     "delete_cmd_postfix": "",
     "delete_cmd_prefix": "del ",
     "library": "var_list.py",
     "varRefreshCmd": "print(var_dic_list())"
    },
    "r": {
     "delete_cmd_postfix": ") ",
     "delete_cmd_prefix": "rm(",
     "library": "var_list.r",
     "varRefreshCmd": "cat(var_dic_list()) "
    }
   },
   "types_to_exclude": [
    "module",
    "function",
    "builtin_function_or_method",
    "instance",
    "_Feature"
   ],
   "window_display": false
  }
 },
 "nbformat": 4,
 "nbformat_minor": 2
}
