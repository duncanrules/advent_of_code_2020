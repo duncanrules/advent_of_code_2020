{
 "cells": [
  {
   "cell_type": "code",
   "execution_count": 1,
   "metadata": {},
   "outputs": [],
   "source": [
    "import math\n",
    "import numpy as np\n",
    "\n",
    "with open('day_13.txt', 'r') as f:\n",
    "    raw = f.read().splitlines()\n",
    "    \n",
    "arrival = int(raw[0])\n",
    "buses = raw[1].split(',')"
   ]
  },
  {
   "cell_type": "markdown",
   "metadata": {},
   "source": [
    "# Part 1"
   ]
  },
  {
   "cell_type": "code",
   "execution_count": 2,
   "metadata": {},
   "outputs": [
    {
     "data": {
      "text/plain": [
       "136"
      ]
     },
     "execution_count": 2,
     "metadata": {},
     "output_type": "execute_result"
    }
   ],
   "source": [
    "bus_times = [((math.ceil(arrival/int(x)) * int(x)) - arrival, int(x)) for x in buses if x != 'x']\n",
    "np.prod(min(bus_times, key = lambda t: t[0]))"
   ]
  },
  {
   "cell_type": "markdown",
   "metadata": {},
   "source": [
    "# Part 2"
   ]
  },
  {
   "cell_type": "code",
   "execution_count": 3,
   "metadata": {},
   "outputs": [],
   "source": [
    "# get each valid bus and its index\n",
    "bus_indeces = [(x[0], int(x[1])) for x in enumerate(buses) if x[1] != 'x']"
   ]
  },
  {
   "cell_type": "code",
   "execution_count": 4,
   "metadata": {
    "collapsed": true
   },
   "outputs": [],
   "source": [
    "curr_val = bus_indeces[0][1]\n",
    "iter_val = bus_indeces[0][1]\n",
    "bus_indeces = bus_indeces[1:]"
   ]
  },
  {
   "cell_type": "code",
   "execution_count": 5,
   "metadata": {},
   "outputs": [
    {
     "name": "stdout",
     "output_type": "stream",
     "text": [
      "305068317272992\n"
     ]
    }
   ],
   "source": [
    "while len(bus_indeces) > 0:\n",
    "    \n",
    "    # step from zero at intervals equal to the first but value\n",
    "    # when we get to the first timestamp that matches the next bus,\n",
    "    # we can multiply our interval by the bus value\n",
    "    \n",
    "    curr_val += iter_val\n",
    "    if (curr_val + bus_indeces[0][0]) % bus_indeces[0][1] == 0:\n",
    "        iter_val *= bus_indeces[0][1]\n",
    "        del bus_indeces[0]\n",
    "    \n",
    "print(curr_val)"
   ]
  }
 ],
 "metadata": {
  "kernelspec": {
   "display_name": "Python 3",
   "language": "python",
   "name": "python3"
  },
  "varInspector": {
   "cols": {
    "lenName": 16,
    "lenType": 16,
    "lenVar": 40
   },
   "kernels_config": {
    "python": {
     "delete_cmd_postfix": "",
     "delete_cmd_prefix": "del ",
     "library": "var_list.py",
     "varRefreshCmd": "print(var_dic_list())"
    },
    "r": {
     "delete_cmd_postfix": ") ",
     "delete_cmd_prefix": "rm(",
     "library": "var_list.r",
     "varRefreshCmd": "cat(var_dic_list()) "
    }
   },
   "types_to_exclude": [
    "module",
    "function",
    "builtin_function_or_method",
    "instance",
    "_Feature"
   ],
   "window_display": false
  }
 },
 "nbformat": 4,
 "nbformat_minor": 2
}
