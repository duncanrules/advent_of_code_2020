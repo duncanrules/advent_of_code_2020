{
 "cells": [
  {
   "cell_type": "code",
   "execution_count": 1,
   "metadata": {},
   "outputs": [],
   "source": [
    "import re"
   ]
  },
  {
   "cell_type": "code",
   "execution_count": 2,
   "metadata": {},
   "outputs": [],
   "source": [
    "# read in\n",
    "with open('day_2.txt') as f:\n",
    "    passwords = f.readlines()"
   ]
  },
  {
   "cell_type": "markdown",
   "metadata": {},
   "source": [
    "# Part 1"
   ]
  },
  {
   "cell_type": "code",
   "execution_count": 3,
   "metadata": {},
   "outputs": [],
   "source": [
    "def process_password(pw):\n",
    "    \n",
    "    # grab min, max, search value, and password with regex\n",
    "    res = re.match(r'([0-9]+)-([0-9]+) ([a-z]{1}): ([a-z]+)', pw)\n",
    "    \n",
    "    minval = int(res[1])\n",
    "    maxval = int(res[2])\n",
    "    val = res[3]\n",
    "    password = res[4]\n",
    "    \n",
    "    # count instances of value\n",
    "    ct = password.count(val)\n",
    "       \n",
    "    # check validity\n",
    "    return((ct >= minval) & (ct <= maxval))"
   ]
  },
  {
   "cell_type": "code",
   "execution_count": 4,
   "metadata": {},
   "outputs": [
    {
     "data": {
      "text/plain": [
       "550"
      ]
     },
     "execution_count": 4,
     "metadata": {},
     "output_type": "execute_result"
    }
   ],
   "source": [
    "sum([process_password(p.strip()) for p in passwords])"
   ]
  },
  {
   "cell_type": "markdown",
   "metadata": {},
   "source": [
    "# Part 2"
   ]
  },
  {
   "cell_type": "code",
   "execution_count": 5,
   "metadata": {},
   "outputs": [],
   "source": [
    "def process_password_pt2(pw):\n",
    "    \n",
    "    # grab indeces, search value, and password with regex\n",
    "    res = re.match(r'([0-9]+)-([0-9]+) ([a-z]{1}): ([a-z]+)', pw)\n",
    "    \n",
    "    # grab characters at specified indeces\n",
    "    password = res[4]\n",
    "    char_1 = password[int(res[1]) - 1]\n",
    "    char_2 = password[int(res[2]) - 1]\n",
    "    val = res[3]\n",
    "    \n",
    "    # use xor to check for one TRUE\n",
    "    return((val == char_1) ^ (val == char_2))"
   ]
  },
  {
   "cell_type": "code",
   "execution_count": 6,
   "metadata": {},
   "outputs": [
    {
     "data": {
      "text/plain": [
       "634"
      ]
     },
     "execution_count": 6,
     "metadata": {},
     "output_type": "execute_result"
    }
   ],
   "source": [
    "sum([process_password_pt2(p.strip()) for p in passwords])"
   ]
  }
 ],
 "metadata": {
  "kernelspec": {
   "display_name": "Python 3",
   "language": "python",
   "name": "python3"
  },
  "language_info": {
   "codemirror_mode": {
    "name": "ipython",
    "version": 3
   },
   "file_extension": ".py",
   "mimetype": "text/x-python",
   "name": "python",
   "nbconvert_exporter": "python",
   "pygments_lexer": "ipython3",
   "version": "3.6.5"
  },
  "toc": {
   "base_numbering": 1,
   "nav_menu": {},
   "number_sections": true,
   "sideBar": true,
   "skip_h1_title": false,
   "title_cell": "Table of Contents",
   "title_sidebar": "Contents",
   "toc_cell": false,
   "toc_position": {},
   "toc_section_display": true,
   "toc_window_display": false
  },
  "varInspector": {
   "cols": {
    "lenName": 16,
    "lenType": 16,
    "lenVar": 40
   },
   "kernels_config": {
    "python": {
     "delete_cmd_postfix": "",
     "delete_cmd_prefix": "del ",
     "library": "var_list.py",
     "varRefreshCmd": "print(var_dic_list())"
    },
    "r": {
     "delete_cmd_postfix": ") ",
     "delete_cmd_prefix": "rm(",
     "library": "var_list.r",
     "varRefreshCmd": "cat(var_dic_list()) "
    }
   },
   "types_to_exclude": [
    "module",
    "function",
    "builtin_function_or_method",
    "instance",
    "_Feature"
   ],
   "window_display": false
  }
 },
 "nbformat": 4,
 "nbformat_minor": 2
}
