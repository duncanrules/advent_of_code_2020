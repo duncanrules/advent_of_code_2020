{
 "cells": [
  {
   "cell_type": "markdown",
   "metadata": {},
   "source": [
    "# Part 1"
   ]
  },
  {
   "cell_type": "code",
   "execution_count": 1,
   "metadata": {},
   "outputs": [],
   "source": [
    "def shuffle(cups, current_cup=0):\n",
    "\n",
    "    l = len(cups)\n",
    "    cc = cups[current_cup]\n",
    "    \n",
    "    # get pickup\n",
    "    pickup = [cups[(c+i)%l] for i in range(1, 4)]\n",
    "    [cups.remove(x) for x in pickup]\n",
    "\n",
    "    # get destination \n",
    "    destination = ((cc - 2) % l) + 1\n",
    "    while destination in pickup:\n",
    "        destination = ((destination - 2) % l) + 1\n",
    "        \n",
    "    # edit list\n",
    "    d = cups.index(destination)\n",
    "    cups = cups[:d+1] + pickup + cups[d+1:]\n",
    "    \n",
    "    # get new current cup index\n",
    "    current_cup = (cups.index(cc) + 1) % len(cups)\n",
    "    \n",
    "    return(cups, current_cup)"
   ]
  },
  {
   "cell_type": "code",
   "execution_count": 2,
   "metadata": {},
   "outputs": [],
   "source": [
    "puzzle = '712643589'\n",
    "puzzle = [int(char) for char in puzzle]"
   ]
  },
  {
   "cell_type": "code",
   "execution_count": 3,
   "metadata": {},
   "outputs": [],
   "source": [
    "c = 0\n",
    "for _ in range(100):\n",
    "\n",
    "    puzzle, c = shuffle(puzzle, c)"
   ]
  },
  {
   "cell_type": "code",
   "execution_count": 4,
   "metadata": {},
   "outputs": [
    {
     "data": {
      "text/plain": [
       "'29385746'"
      ]
     },
     "execution_count": 4,
     "metadata": {},
     "output_type": "execute_result"
    }
   ],
   "source": [
    "''.join([str(puzzle[(puzzle.index(1)+i)%len(puzzle)]) for i in range(1, 9)])"
   ]
  },
  {
   "cell_type": "markdown",
   "metadata": {},
   "source": [
    "# Part 2"
   ]
  },
  {
   "cell_type": "code",
   "execution_count": 5,
   "metadata": {},
   "outputs": [],
   "source": [
    "class Cup:\n",
    "    \"\"\"Linked lists boooooooooo\"\"\"\n",
    "    def __init__(self, data):\n",
    "        self.data = data\n",
    "        self.next = None\n",
    "    def __repr__(self):\n",
    "        if self.next:\n",
    "            return(str(self.data) + ' -> ' + str(self.next.data))\n",
    "        else:\n",
    "            return(str(self.data) + ' -> ' + str(self.next))"
   ]
  },
  {
   "cell_type": "code",
   "execution_count": 6,
   "metadata": {},
   "outputs": [],
   "source": [
    "cups = [int(x) for x in '712643589']\n",
    "cups += list(range(10, 1000001))\n",
    "lookup = dict()"
   ]
  },
  {
   "cell_type": "code",
   "execution_count": 7,
   "metadata": {},
   "outputs": [],
   "source": [
    "# populate the lookup dictionary with cups\n",
    "for i in cups:\n",
    "    lookup[i] = Cup(i)"
   ]
  },
  {
   "cell_type": "code",
   "execution_count": 8,
   "metadata": {},
   "outputs": [],
   "source": [
    "# link each cup to the next cup in the list\n",
    "for i in range(len(cups)):\n",
    "    lookup[cups[i]].next = lookup[cups[(i+1)%len(cups)]]"
   ]
  },
  {
   "cell_type": "code",
   "execution_count": 9,
   "metadata": {},
   "outputs": [],
   "source": [
    "current = lookup[cups[0]]"
   ]
  },
  {
   "cell_type": "code",
   "execution_count": 10,
   "metadata": {},
   "outputs": [],
   "source": [
    "for _ in range(10000000):\n",
    "    \n",
    "    # get the first value of the \"pickup\"\n",
    "    pickup = current.next\n",
    "\n",
    "    # set the current cup to skip the next three values in the pickup\n",
    "    current.next = current.next.next.next.next\n",
    "    \n",
    "    # get the destination cup (with wraparound)\n",
    "    destination = ((current.data - 2) % len(cups)) + 1\n",
    "\n",
    "    # keep subtracting until the destination isn't in the pickup\n",
    "    while destination in [pickup.data, pickup.next.data, pickup.next.next.data]:\n",
    "        destination = ((destination - 2) % len(cups)) + 1\n",
    "\n",
    "    # the third value of the pickup should now go to where the destination cup went\n",
    "    pickup.next.next.next = lookup[destination].next\n",
    "    # the destination cup should now go to the beginning of the pickup\n",
    "    lookup[destination].next = pickup\n",
    "    # get next cup\n",
    "    current = current.next\n"
   ]
  },
  {
   "cell_type": "code",
   "execution_count": 11,
   "metadata": {},
   "outputs": [
    {
     "data": {
      "text/plain": [
       "680435423892"
      ]
     },
     "execution_count": 11,
     "metadata": {},
     "output_type": "execute_result"
    }
   ],
   "source": [
    "lookup[1].next.data * lookup[1].next.next.data"
   ]
  }
 ],
 "metadata": {
  "kernelspec": {
   "display_name": "Python 3",
   "language": "python",
   "name": "python3"
  },
  "language_info": {
   "codemirror_mode": {
    "name": "ipython",
    "version": 3
   },
   "file_extension": ".py",
   "mimetype": "text/x-python",
   "name": "python",
   "nbconvert_exporter": "python",
   "pygments_lexer": "ipython3",
   "version": "3.6.5"
  },
  "toc": {
   "base_numbering": 1,
   "nav_menu": {},
   "number_sections": true,
   "sideBar": true,
   "skip_h1_title": false,
   "title_cell": "Table of Contents",
   "title_sidebar": "Contents",
   "toc_cell": false,
   "toc_position": {},
   "toc_section_display": true,
   "toc_window_display": false
  },
  "varInspector": {
   "cols": {
    "lenName": 16,
    "lenType": 16,
    "lenVar": 40
   },
   "kernels_config": {
    "python": {
     "delete_cmd_postfix": "",
     "delete_cmd_prefix": "del ",
     "library": "var_list.py",
     "varRefreshCmd": "print(var_dic_list())"
    },
    "r": {
     "delete_cmd_postfix": ") ",
     "delete_cmd_prefix": "rm(",
     "library": "var_list.r",
     "varRefreshCmd": "cat(var_dic_list()) "
    }
   },
   "types_to_exclude": [
    "module",
    "function",
    "builtin_function_or_method",
    "instance",
    "_Feature"
   ],
   "window_display": false
  }
 },
 "nbformat": 4,
 "nbformat_minor": 2
}
