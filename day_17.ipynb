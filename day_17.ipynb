{
 "cells": [
  {
   "cell_type": "code",
   "execution_count": 1,
   "metadata": {},
   "outputs": [],
   "source": [
    "import itertools\n",
    "import datetime\n",
    "\n",
    "with open('day_17.txt', 'r') as f:\n",
    "    starting_grid = f.read().splitlines()"
   ]
  },
  {
   "cell_type": "code",
   "execution_count": 2,
   "metadata": {},
   "outputs": [],
   "source": [
    "grid_dict = dict()\n",
    "\n",
    "for y in range(len(starting_grid)):\n",
    "    for x in range(len(starting_grid[y])):\n",
    "        grid_dict[(x, y, 0)] = starting_grid[y][x]"
   ]
  },
  {
   "cell_type": "markdown",
   "metadata": {},
   "source": [
    "# Part 1"
   ]
  },
  {
   "cell_type": "code",
   "execution_count": 3,
   "metadata": {},
   "outputs": [],
   "source": [
    "def cycle(grid_dictionary):\n",
    "    \n",
    "    updated_grid = dict()\n",
    "    \n",
    "    # expand the grid\n",
    "    x_lst, y_lst, z_lst = zip(*list(grid_dictionary.keys()))\n",
    "\n",
    "    x_lst = list(range(min(x_lst) - 1, max(x_lst) + 2))\n",
    "    y_lst = list(range(min(y_lst) - 1, max(y_lst) + 2))\n",
    "    z_lst = list(range(min(z_lst) - 1, max(z_lst) + 2))\n",
    "\n",
    "    # loop through expanded grid\n",
    "    for x in x_lst:\n",
    "        for y in y_lst:\n",
    "            for z in z_lst:\n",
    "                \n",
    "                key = (x, y, z)\n",
    "                value = grid_dictionary.get(key, '.')\n",
    "                \n",
    "                # get neighbors\n",
    "                neighbors = [list(range(key[0]-1, key[0]+2)), list(range(key[1]-1, key[1]+2)), list(range(key[2]-1, key[2]+2))]\n",
    "                neighbors = list(itertools.product(*neighbors))\n",
    "                neighbors.remove(key)\n",
    "\n",
    "                # get values of neighbors from old dict\n",
    "                neighbor_vals = [grid_dictionary.get(neighbor, '.') for neighbor in neighbors]   \n",
    "        \n",
    "                # update new dict\n",
    "                if value == '#' and neighbor_vals.count('#') in [2, 3]:\n",
    "                    updated_grid[key] = '#'\n",
    "                elif value == '.' and neighbor_vals.count('#') == 3:\n",
    "                    updated_grid[key] = '#'\n",
    "                else:\n",
    "                    updated_grid[key] = '.'\n",
    "        \n",
    "        \n",
    "    return(updated_grid)"
   ]
  },
  {
   "cell_type": "code",
   "execution_count": 4,
   "metadata": {},
   "outputs": [
    {
     "data": {
      "text/plain": [
       "213"
      ]
     },
     "execution_count": 4,
     "metadata": {},
     "output_type": "execute_result"
    }
   ],
   "source": [
    "list(cycle(cycle(cycle(cycle(cycle(cycle(grid_dict)))))).values()).count('#')"
   ]
  },
  {
   "cell_type": "markdown",
   "metadata": {},
   "source": [
    "# Part 2"
   ]
  },
  {
   "cell_type": "code",
   "execution_count": 5,
   "metadata": {},
   "outputs": [],
   "source": [
    "grid_dict = dict()\n",
    "\n",
    "for y in range(len(starting_grid)):\n",
    "    for x in range(len(starting_grid[y])):\n",
    "        grid_dict[(x, y, 0, 0)] = starting_grid[y][x]"
   ]
  },
  {
   "cell_type": "code",
   "execution_count": 6,
   "metadata": {},
   "outputs": [],
   "source": [
    "def cycle(grid_dictionary):\n",
    "    \n",
    "    updated_grid = dict()\n",
    "    \n",
    "    # expand the grid\n",
    "    x_lst, y_lst, z_lst, w_lst = zip(*list(grid_dictionary.keys()))\n",
    "\n",
    "    x_lst = list(range(min(x_lst) - 1, max(x_lst) + 2))\n",
    "    y_lst = list(range(min(y_lst) - 1, max(y_lst) + 2))\n",
    "    z_lst = list(range(min(z_lst) - 1, max(z_lst) + 2))\n",
    "    w_lst = list(range(min(w_lst) - 1, max(w_lst) + 2))\n",
    "\n",
    "    # loop through expanded grid\n",
    "    for x in x_lst:\n",
    "        for y in y_lst:\n",
    "            for z in z_lst:\n",
    "                for w in z_lst:\n",
    "                \n",
    "                    key = (x, y, z, w)\n",
    "                    value = grid_dictionary.get(key, '.')\n",
    "\n",
    "                    # get neighbors\n",
    "                    neighbors = [list(range(key[0]-1, key[0]+2)), list(range(key[1]-1, key[1]+2)), list(range(key[2]-1, key[2]+2)), list(range(key[3]-1, key[3]+2))]\n",
    "                    neighbors = list(itertools.product(*neighbors))\n",
    "                    neighbors.remove(key)\n",
    "\n",
    "                    # get values of neighbors from old dict\n",
    "                    neighbor_vals = [grid_dictionary.get(neighbor, '.') for neighbor in neighbors]   \n",
    "\n",
    "                    # update new dict\n",
    "                    if value == '#' and neighbor_vals.count('#') in [2, 3]:\n",
    "                        updated_grid[key] = '#'\n",
    "                    elif value == '.' and neighbor_vals.count('#') == 3:\n",
    "                        updated_grid[key] = '#'\n",
    "                    else:\n",
    "                        updated_grid[key] = '.'\n",
    "        \n",
    "        \n",
    "    return(updated_grid)"
   ]
  },
  {
   "cell_type": "code",
   "execution_count": 7,
   "metadata": {},
   "outputs": [
    {
     "name": "stdout",
     "output_type": "stream",
     "text": [
      "1624\n",
      "0:00:08.338712\n"
     ]
    }
   ],
   "source": [
    "start = datetime.datetime.now()\n",
    "print(list(cycle(cycle(cycle(cycle(cycle(cycle(grid_dict)))))).values()).count('#'))\n",
    "print(datetime.datetime.now() - start)"
   ]
  }
 ],
 "metadata": {
  "kernelspec": {
   "display_name": "Python 3",
   "language": "python",
   "name": "python3"
  },
  "language_info": {
   "codemirror_mode": {
    "name": "ipython",
    "version": 3
   },
   "file_extension": ".py",
   "mimetype": "text/x-python",
   "name": "python",
   "nbconvert_exporter": "python",
   "pygments_lexer": "ipython3",
   "version": "3.6.5"
  },
  "toc": {
   "base_numbering": 1,
   "nav_menu": {},
   "number_sections": true,
   "sideBar": true,
   "skip_h1_title": false,
   "title_cell": "Table of Contents",
   "title_sidebar": "Contents",
   "toc_cell": false,
   "toc_position": {},
   "toc_section_display": true,
   "toc_window_display": false
  },
  "varInspector": {
   "cols": {
    "lenName": 16,
    "lenType": 16,
    "lenVar": 40
   },
   "kernels_config": {
    "python": {
     "delete_cmd_postfix": "",
     "delete_cmd_prefix": "del ",
     "library": "var_list.py",
     "varRefreshCmd": "print(var_dic_list())"
    },
    "r": {
     "delete_cmd_postfix": ") ",
     "delete_cmd_prefix": "rm(",
     "library": "var_list.r",
     "varRefreshCmd": "cat(var_dic_list()) "
    }
   },
   "types_to_exclude": [
    "module",
    "function",
    "builtin_function_or_method",
    "instance",
    "_Feature"
   ],
   "window_display": false
  }
 },
 "nbformat": 4,
 "nbformat_minor": 2
}
