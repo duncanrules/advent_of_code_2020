{
 "cells": [
  {
   "cell_type": "code",
   "execution_count": 1,
   "metadata": {},
   "outputs": [],
   "source": [
    "import itertools\n",
    "import pandas as pd\n",
    "import re\n",
    "\n",
    "# read in\n",
    "with open('day_4.txt') as f:\n",
    "    passports = f.read()"
   ]
  },
  {
   "cell_type": "code",
   "execution_count": 2,
   "metadata": {},
   "outputs": [],
   "source": [
    "# create list of dicts\n",
    "passports = passports.split('\\n\\n')\n",
    "passports = [x.replace('\\n', ' ').replace(' ', ', ').split(', ') for x in passports]\n",
    "passports = [dict([tuple(x.split(':')) for x in ppt]) for ppt in passports]"
   ]
  },
  {
   "cell_type": "markdown",
   "metadata": {},
   "source": [
    "# Part 1"
   ]
  },
  {
   "cell_type": "code",
   "execution_count": 3,
   "metadata": {},
   "outputs": [],
   "source": [
    "def check_passport_1(ppt):\n",
    "    \n",
    "    ppt = [key for key in ppt.keys() if key != 'cid']\n",
    "    return(len(ppt) == 7)"
   ]
  },
  {
   "cell_type": "code",
   "execution_count": 4,
   "metadata": {},
   "outputs": [
    {
     "data": {
      "text/plain": [
       "190"
      ]
     },
     "execution_count": 4,
     "metadata": {},
     "output_type": "execute_result"
    }
   ],
   "source": [
    "sum([check_passport_1(p) for p in passports])"
   ]
  },
  {
   "cell_type": "markdown",
   "metadata": {},
   "source": [
    "# Part 2"
   ]
  },
  {
   "cell_type": "code",
   "execution_count": 5,
   "metadata": {},
   "outputs": [],
   "source": [
    "def check_passport_2(ppt):\n",
    "    \n",
    "    # check all fields present\n",
    "    if not check_passport_1(ppt):\n",
    "        return(False)\n",
    "    \n",
    "    # check birth year\n",
    "    if len(ppt['byr']) != 4 or int(ppt['byr']) < 1920 or int(ppt['byr']) > 2002:\n",
    "        return(False)\n",
    "    \n",
    "    # check issue year\n",
    "    if len(ppt['iyr']) != 4 or int(ppt['iyr']) < 2010 or int(ppt['iyr']) > 2020:\n",
    "        return(False)\n",
    "    \n",
    "    # check expiration year\n",
    "    if len(ppt['eyr']) != 4 or int(ppt['eyr']) < 2020 or int(ppt['eyr']) > 2030:\n",
    "        return(False)\n",
    "    \n",
    "    # check height\n",
    "    if ppt['hgt'][-2:] == 'cm':\n",
    "        if int(ppt['hgt'][:-2]) < 150 or int(ppt['hgt'][:-2]) > 193:\n",
    "            return(False)\n",
    "    elif ppt['hgt'][-2:] == 'in':\n",
    "        if int(ppt['hgt'][:-2]) < 59 or int(ppt['hgt'][:-2]) > 76:\n",
    "            return(False)\n",
    "    else:\n",
    "        return(False)\n",
    "    \n",
    "    # check hair color\n",
    "    if not re.search(r'#[0-9a-f]{6}', ppt['hcl']):\n",
    "        return(False)\n",
    "    \n",
    "    # check eye color\n",
    "    if ppt['ecl'] not in ['amb', 'blu', 'brn', 'gry', 'grn', 'hzl', 'oth']:\n",
    "        return(False)\n",
    "    \n",
    "    # check pid\n",
    "    if len(ppt['pid']) != 9:\n",
    "        return(False)\n",
    "    if not re.search(r'[0-9]{9}', ppt['pid']):\n",
    "        return(False)\n",
    "    \n",
    "    \n",
    "    return(True)"
   ]
  },
  {
   "cell_type": "code",
   "execution_count": 6,
   "metadata": {},
   "outputs": [
    {
     "data": {
      "text/plain": [
       "121"
      ]
     },
     "execution_count": 6,
     "metadata": {},
     "output_type": "execute_result"
    }
   ],
   "source": [
    "sum([check_passport_2(p) for p in passports])"
   ]
  }
 ],
 "metadata": {
  "kernelspec": {
   "display_name": "Python 3",
   "language": "python",
   "name": "python3"
  },
  "language_info": {
   "codemirror_mode": {
    "name": "ipython",
    "version": 3
   },
   "file_extension": ".py",
   "mimetype": "text/x-python",
   "name": "python",
   "nbconvert_exporter": "python",
   "pygments_lexer": "ipython3",
   "version": "3.6.5"
  },
  "toc": {
   "base_numbering": 1,
   "nav_menu": {},
   "number_sections": true,
   "sideBar": true,
   "skip_h1_title": false,
   "title_cell": "Table of Contents",
   "title_sidebar": "Contents",
   "toc_cell": false,
   "toc_position": {},
   "toc_section_display": true,
   "toc_window_display": false
  },
  "varInspector": {
   "cols": {
    "lenName": 16,
    "lenType": 16,
    "lenVar": 40
   },
   "kernels_config": {
    "python": {
     "delete_cmd_postfix": "",
     "delete_cmd_prefix": "del ",
     "library": "var_list.py",
     "varRefreshCmd": "print(var_dic_list())"
    },
    "r": {
     "delete_cmd_postfix": ") ",
     "delete_cmd_prefix": "rm(",
     "library": "var_list.r",
     "varRefreshCmd": "cat(var_dic_list()) "
    }
   },
   "types_to_exclude": [
    "module",
    "function",
    "builtin_function_or_method",
    "instance",
    "_Feature"
   ],
   "window_display": false
  }
 },
 "nbformat": 4,
 "nbformat_minor": 2
}
