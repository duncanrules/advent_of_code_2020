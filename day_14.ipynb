{
 "cells": [
  {
   "cell_type": "code",
   "execution_count": 1,
   "metadata": {},
   "outputs": [],
   "source": [
    "import re\n",
    "import datetime\n",
    "\n",
    "with open('day_14.txt', 'r') as f:\n",
    "    masks = f.read()\n",
    "    \n",
    "masks = [string.split('\\n') for string in masks.split('mask = ') if string != '']\n",
    "for mask in masks:\n",
    "    if '' in mask:\n",
    "        mask.remove('')"
   ]
  },
  {
   "cell_type": "markdown",
   "metadata": {},
   "source": [
    "# Part 1"
   ]
  },
  {
   "cell_type": "code",
   "execution_count": 2,
   "metadata": {},
   "outputs": [],
   "source": [
    "def get_masked_value(value, mask):\n",
    "    \n",
    "    # if the mask value is 'X' take the original value, otherwise take mask value\n",
    "    bin_value = '{0:036b}'.format(value)\n",
    "    return(int(''.join([mask[i] if mask[i] != 'X' else bin_value[i] for i in range(36)]), 2))"
   ]
  },
  {
   "cell_type": "code",
   "execution_count": 3,
   "metadata": {},
   "outputs": [],
   "source": [
    "def read_bitmask(mask_instruction, value_dict):\n",
    "    \n",
    "    mask = mask_instruction[0]\n",
    "    instructions = mask_instruction[1:]\n",
    "    \n",
    "    for instr in instructions:\n",
    "        \n",
    "        # get each masked value and add to the relevant address\n",
    "        address, value = re.search(r'mem\\[([0-9]+)\\] = ([0-9]+)', instr).group(1, 2)\n",
    "        value_dict[address] = get_masked_value(int(value), mask)\n",
    "        \n",
    "    return(value_dict)"
   ]
  },
  {
   "cell_type": "code",
   "execution_count": 4,
   "metadata": {},
   "outputs": [
    {
     "name": "stdout",
     "output_type": "stream",
     "text": [
      "13496669152158\n",
      "0:00:00.006981\n"
     ]
    }
   ],
   "source": [
    "start = datetime.datetime.now()\n",
    "vd = dict()\n",
    "[read_bitmask(mask, vd) for mask in masks]\n",
    "print(sum(vd.values()))\n",
    "print(datetime.datetime.now() - start)"
   ]
  },
  {
   "cell_type": "markdown",
   "metadata": {},
   "source": [
    "# Part 2"
   ]
  },
  {
   "cell_type": "code",
   "execution_count": 5,
   "metadata": {},
   "outputs": [],
   "source": [
    "def get_masked_address(address, mask):\n",
    "    \n",
    "    # this time only take the original value if the mask if 0\n",
    "    bin_value = '{0:036b}'.format(address)\n",
    "    return(''.join([mask[i] if mask[i] != '0' else bin_value[i] for i in range(36)]))"
   ]
  },
  {
   "cell_type": "code",
   "execution_count": 6,
   "metadata": {},
   "outputs": [],
   "source": [
    "def invert_binary(b, val_list):\n",
    "    \n",
    "    # recursively try all combinations of X\n",
    "    if 'X' not in b:\n",
    "        val_list.append(int(b, 2))\n",
    "    else:\n",
    "        for i in [0, 1]:\n",
    "            invert_binary(b.replace('X', str(i), 1), val_list)\n",
    "            \n",
    "    return(val_list)"
   ]
  },
  {
   "cell_type": "code",
   "execution_count": 7,
   "metadata": {},
   "outputs": [],
   "source": [
    "def read_bitmask(mask_instruction, value_dict):\n",
    "    \n",
    "    mask = mask_instruction[0]\n",
    "    instructions = mask_instruction[1:]\n",
    "    \n",
    "    for instr in instructions:\n",
    "        \n",
    "        # get all possible addresses and add value to each\n",
    "        address, value = re.search(r'mem\\[([0-9]+)\\] = ([0-9]+)', instr).group(1, 2)\n",
    "        addresses = invert_binary(get_masked_address(int(address), mask), [])\n",
    "        for a in addresses:\n",
    "            value_dict[a] = int(value)\n",
    "        \n",
    "    return(value_dict)"
   ]
  },
  {
   "cell_type": "code",
   "execution_count": 8,
   "metadata": {},
   "outputs": [
    {
     "name": "stdout",
     "output_type": "stream",
     "text": [
      "3278997609887\n",
      "0:00:00.295211\n"
     ]
    }
   ],
   "source": [
    "start = datetime.datetime.now()\n",
    "vd = dict()\n",
    "[read_bitmask(mask, vd) for mask in masks]\n",
    "print(sum(vd.values()))\n",
    "print(datetime.datetime.now() - start)"
   ]
  }
 ],
 "metadata": {
  "kernelspec": {
   "display_name": "Python 3",
   "language": "python",
   "name": "python3"
  },
  "language_info": {
   "codemirror_mode": {
    "name": "ipython",
    "version": 3
   },
   "file_extension": ".py",
   "mimetype": "text/x-python",
   "name": "python",
   "nbconvert_exporter": "python",
   "pygments_lexer": "ipython3",
   "version": "3.6.5"
  },
  "toc": {
   "base_numbering": 1,
   "nav_menu": {},
   "number_sections": true,
   "sideBar": true,
   "skip_h1_title": false,
   "title_cell": "Table of Contents",
   "title_sidebar": "Contents",
   "toc_cell": false,
   "toc_position": {},
   "toc_section_display": true,
   "toc_window_display": false
  },
  "varInspector": {
   "cols": {
    "lenName": 16,
    "lenType": 16,
    "lenVar": 40
   },
   "kernels_config": {
    "python": {
     "delete_cmd_postfix": "",
     "delete_cmd_prefix": "del ",
     "library": "var_list.py",
     "varRefreshCmd": "print(var_dic_list())"
    },
    "r": {
     "delete_cmd_postfix": ") ",
     "delete_cmd_prefix": "rm(",
     "library": "var_list.r",
     "varRefreshCmd": "cat(var_dic_list()) "
    }
   },
   "types_to_exclude": [
    "module",
    "function",
    "builtin_function_or_method",
    "instance",
    "_Feature"
   ],
   "window_display": false
  }
 },
 "nbformat": 4,
 "nbformat_minor": 2
}
