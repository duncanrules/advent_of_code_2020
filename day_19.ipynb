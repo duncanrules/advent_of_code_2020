{
 "cells": [
  {
   "cell_type": "code",
   "execution_count": 1,
   "metadata": {
    "collapsed": true
   },
   "outputs": [],
   "source": [
    "from collections import defaultdict\n",
    "import regex\n",
    "import re\n",
    "\n",
    "with open('day_19.txt', 'r') as f:\n",
    "    rules, messages = f.read().split('\\n\\n')\n",
    "    \n",
    "rules = rules.splitlines()\n",
    "messages = messages.splitlines()"
   ]
  },
  {
   "cell_type": "markdown",
   "metadata": {},
   "source": [
    "# Part 1"
   ]
  },
  {
   "cell_type": "code",
   "execution_count": 2,
   "metadata": {
    "collapsed": true
   },
   "outputs": [],
   "source": [
    "def create_dict(r):\n",
    "    \n",
    "    # put the rules in a dictionary wrapped in parentheses\n",
    "    rule_dict = defaultdict(list)\n",
    "    nodes = []\n",
    "\n",
    "    for rule in r:\n",
    "\n",
    "        key, l = rule.split(': ')\n",
    "\n",
    "        # keep track of which keys are the terminal nodes for easy access\n",
    "        if l == '\"a\"' or l == '\"b\"':\n",
    "            nodes.append(key)\n",
    "            rule_dict[key] = l.replace('\"', '')\n",
    "\n",
    "        else:\n",
    "            rule_dict[key] = '(' + l + ')'\n",
    "            \n",
    "    return(rule_dict, nodes)"
   ]
  },
  {
   "cell_type": "code",
   "execution_count": 3,
   "metadata": {},
   "outputs": [],
   "source": [
    "def get_regex_rules(r, completed):\n",
    "    \n",
    "    # loop over the rules and replace any \"completed\" rule numbers with their regex representation\n",
    "    # this starts with replacing 16 and 26 (the terminal nodes) with \"b\" and \"a\" whenever we see them in a rule\n",
    "    \n",
    "    c_len = 0\n",
    "    while len(completed) > c_len:\n",
    "\n",
    "        c_len = len(completed)\n",
    "\n",
    "        for c in completed:\n",
    "\n",
    "            for key, val in r.items():\n",
    "\n",
    "                if key in completed:\n",
    "                    continue\n",
    "\n",
    "                # substitute the rule number with its regex representation\n",
    "                new_val = re.sub(r'\\({0} '.format(c), '({} '.format(r[c]), val)\n",
    "                new_val = re.sub(r' {0} '.format(c), ' {} '.format(r[c]), new_val)\n",
    "                new_val = re.sub(r' {0}\\)'.format(c), ' {})'.format(r[c]), new_val)\n",
    "                new_val = re.sub(r'\\({0}\\)'.format(c), '({})'.format(r[c]), new_val)\n",
    "\n",
    "                # a rule is completed if it contains no numbers, just \"a\" and \"b\"\n",
    "                if not re.search('[0-9]', new_val):\n",
    "                    completed.append(key)\n",
    "                    r[key] = new_val.replace(' ', '')\n",
    "\n",
    "                else:\n",
    "                    r[key] = new_val\n",
    "            \n",
    "    return(r)"
   ]
  },
  {
   "cell_type": "code",
   "execution_count": 4,
   "metadata": {},
   "outputs": [],
   "source": [
    "rule_dict, completed = create_dict(rules)\n",
    "regex_rules = get_regex_rules(rule_dict, completed)"
   ]
  },
  {
   "cell_type": "code",
   "execution_count": 5,
   "metadata": {},
   "outputs": [
    {
     "data": {
      "text/plain": [
       "208"
      ]
     },
     "execution_count": 5,
     "metadata": {},
     "output_type": "execute_result"
    }
   ],
   "source": [
    "# rule 0 is now a regex representation of the full tree and can be used in a match\n",
    "r = re.compile('^' + regex_rules['0'] + '$')\n",
    "sum([1 if r.match(i) else 0 for i in messages])"
   ]
  },
  {
   "cell_type": "markdown",
   "metadata": {},
   "source": [
    "# Part 2"
   ]
  },
  {
   "cell_type": "code",
   "execution_count": 6,
   "metadata": {
    "collapsed": true
   },
   "outputs": [],
   "source": [
    "rule_dict, completed = create_dict(rules)\n",
    "regex_rules = get_regex_rules(rule_dict, completed)"
   ]
  },
  {
   "cell_type": "code",
   "execution_count": 7,
   "metadata": {
    "collapsed": true
   },
   "outputs": [],
   "source": [
    "# the change to 8 simply means we can repeat rule 42 any number of times\n",
    "regex_rules['8'] = '({})+'.format(regex_rules['42'])\n",
    "\n",
    "# the change to rule 11 needs to check recursively for 42(r)*31 where r = 42(r)*31\n",
    "regex_rules['11'] = r'(({})(?{})*({}))'.format(regex_rules['42'], regex_rules['8'].count('(')+1, regex_rules['31'])\n",
    "\n",
    "# combine them for final rule\n",
    "regex_rules['0'] = regex_rules['8'] + regex_rules['11']"
   ]
  },
  {
   "cell_type": "code",
   "execution_count": 8,
   "metadata": {},
   "outputs": [
    {
     "data": {
      "text/plain": [
       "316"
      ]
     },
     "execution_count": 8,
     "metadata": {},
     "output_type": "execute_result"
    }
   ],
   "source": [
    "r = regex.compile('^' + rule_dict['0'] + '$')\n",
    "sum([1 if r.match(i) else 0 for i in messages])"
   ]
  }
 ],
 "metadata": {
  "kernelspec": {
   "display_name": "Python 3",
   "language": "python",
   "name": "python3"
  },
  "language_info": {
   "codemirror_mode": {
    "name": "ipython",
    "version": 3
   },
   "file_extension": ".py",
   "mimetype": "text/x-python",
   "name": "python",
   "nbconvert_exporter": "python",
   "pygments_lexer": "ipython3",
   "version": "3.6.3"
  },
  "varInspector": {
   "cols": {
    "lenName": 16,
    "lenType": 16,
    "lenVar": 40
   },
   "kernels_config": {
    "python": {
     "delete_cmd_postfix": "",
     "delete_cmd_prefix": "del ",
     "library": "var_list.py",
     "varRefreshCmd": "print(var_dic_list())"
    },
    "r": {
     "delete_cmd_postfix": ") ",
     "delete_cmd_prefix": "rm(",
     "library": "var_list.r",
     "varRefreshCmd": "cat(var_dic_list()) "
    }
   },
   "types_to_exclude": [
    "module",
    "function",
    "builtin_function_or_method",
    "instance",
    "_Feature"
   ],
   "window_display": false
  }
 },
 "nbformat": 4,
 "nbformat_minor": 2
}
