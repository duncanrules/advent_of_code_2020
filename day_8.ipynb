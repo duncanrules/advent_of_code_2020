{
 "cells": [
  {
   "cell_type": "code",
   "execution_count": 1,
   "metadata": {},
   "outputs": [],
   "source": [
    "from collections import defaultdict\n",
    "import re\n",
    "import copy\n",
    "\n",
    "with open('day_8.txt', 'r') as f:\n",
    "    instructions = f.read().splitlines()"
   ]
  },
  {
   "cell_type": "code",
   "execution_count": 2,
   "metadata": {},
   "outputs": [],
   "source": [
    "def int_code(index, acc, indeces, instr):\n",
    "    \n",
    "    # check index for repetition\n",
    "    indeces[index] += 1\n",
    "    if indeces[index] == 2 or index >= len(instr):\n",
    "        return((acc, index))\n",
    "    \n",
    "    # get operation\n",
    "    operation, argument = instr[index].split(' ')\n",
    "    \n",
    "    # acc\n",
    "    if operation == 'acc':\n",
    "        acc += int(argument)\n",
    "        index += 1\n",
    "        \n",
    "    # jmp\n",
    "    elif operation == 'jmp':\n",
    "        index += int(argument)\n",
    "        \n",
    "    # nop\n",
    "    elif operation == 'nop':\n",
    "        index += 1\n",
    "        \n",
    "    # recursively run on the next index\n",
    "    return(int_code(index, acc, indeces, instr=instr))\n",
    "    "
   ]
  },
  {
   "cell_type": "markdown",
   "metadata": {},
   "source": [
    "# Part 1"
   ]
  },
  {
   "cell_type": "code",
   "execution_count": 3,
   "metadata": {},
   "outputs": [
    {
     "data": {
      "text/plain": [
       "1087"
      ]
     },
     "execution_count": 3,
     "metadata": {},
     "output_type": "execute_result"
    }
   ],
   "source": [
    "ind = defaultdict(int)\n",
    "int_code(0, 0, ind, instructions)[0]"
   ]
  },
  {
   "cell_type": "markdown",
   "metadata": {},
   "source": [
    "# Part 2"
   ]
  },
  {
   "cell_type": "code",
   "execution_count": 4,
   "metadata": {},
   "outputs": [
    {
     "name": "stdout",
     "output_type": "stream",
     "text": [
      "780\n"
     ]
    }
   ],
   "source": [
    "for i in range(len(instructions)):\n",
    "    \n",
    "    # create new copy of indeces and instructions\n",
    "    ind = defaultdict(int)\n",
    "    new_instr = copy.deepcopy(instructions)\n",
    "    \n",
    "    operation, argument = new_instr[i].split(' ')\n",
    "    \n",
    "    # flip the operation\n",
    "    if operation == 'nop':\n",
    "        new_instr[i] = ' '.join(['jmp', argument])\n",
    "    elif operation == 'jmp':\n",
    "        new_instr[i] = ' '.join(['nop', argument])\n",
    "    else:\n",
    "        pass\n",
    "    \n",
    "    # run the intcode program\n",
    "    val, index = int_code(0, 0, ind, instr=new_instr)\n",
    "    \n",
    "    # check if the program was stopped by the last list item\n",
    "    if index >= len(new_instr):\n",
    "        print(val)"
   ]
  }
 ],
 "metadata": {
  "kernelspec": {
   "display_name": "Python 3",
   "language": "python",
   "name": "python3"
  },
  "language_info": {
   "codemirror_mode": {
    "name": "ipython",
    "version": 3
   },
   "file_extension": ".py",
   "mimetype": "text/x-python",
   "name": "python",
   "nbconvert_exporter": "python",
   "pygments_lexer": "ipython3",
   "version": "3.6.5"
  },
  "toc": {
   "base_numbering": 1,
   "nav_menu": {},
   "number_sections": true,
   "sideBar": true,
   "skip_h1_title": false,
   "title_cell": "Table of Contents",
   "title_sidebar": "Contents",
   "toc_cell": false,
   "toc_position": {},
   "toc_section_display": true,
   "toc_window_display": false
  },
  "varInspector": {
   "cols": {
    "lenName": 16,
    "lenType": 16,
    "lenVar": 40
   },
   "kernels_config": {
    "python": {
     "delete_cmd_postfix": "",
     "delete_cmd_prefix": "del ",
     "library": "var_list.py",
     "varRefreshCmd": "print(var_dic_list())"
    },
    "r": {
     "delete_cmd_postfix": ") ",
     "delete_cmd_prefix": "rm(",
     "library": "var_list.r",
     "varRefreshCmd": "cat(var_dic_list()) "
    }
   },
   "types_to_exclude": [
    "module",
    "function",
    "builtin_function_or_method",
    "instance",
    "_Feature"
   ],
   "window_display": false
  }
 },
 "nbformat": 4,
 "nbformat_minor": 2
}
