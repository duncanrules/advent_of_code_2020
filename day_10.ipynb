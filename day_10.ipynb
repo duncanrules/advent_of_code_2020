{
 "cells": [
  {
   "cell_type": "code",
   "execution_count": 1,
   "metadata": {},
   "outputs": [],
   "source": [
    "from collections import defaultdict\n",
    "\n",
    "with open('day_10.txt', 'r') as f:\n",
    "    adapters = f.read().splitlines()\n",
    "    \n",
    "adapters = [int(x) for x in adapters]"
   ]
  },
  {
   "cell_type": "markdown",
   "metadata": {},
   "source": [
    "# Part 1"
   ]
  },
  {
   "cell_type": "code",
   "execution_count": 2,
   "metadata": {},
   "outputs": [],
   "source": [
    "adapters.sort()\n",
    "adapters.insert(0, 0)\n",
    "adapters.append(max(adapters) + 3)"
   ]
  },
  {
   "cell_type": "code",
   "execution_count": 3,
   "metadata": {},
   "outputs": [],
   "source": [
    "difs = [adapters[i] - adapters[i-1] for i in range(1, len(adapters))]"
   ]
  },
  {
   "cell_type": "code",
   "execution_count": 4,
   "metadata": {},
   "outputs": [
    {
     "data": {
      "text/plain": [
       "2432"
      ]
     },
     "execution_count": 4,
     "metadata": {},
     "output_type": "execute_result"
    }
   ],
   "source": [
    "difs.count(1) * difs.count(3)"
   ]
  },
  {
   "cell_type": "markdown",
   "metadata": {},
   "source": [
    "# Part 2"
   ]
  },
  {
   "cell_type": "code",
   "execution_count": 5,
   "metadata": {},
   "outputs": [],
   "source": [
    "# create two dictionaries: one to store tree structure, and one to store count of terminal nodes\n",
    "nest = defaultdict(list)\n",
    "nodes = defaultdict(int)"
   ]
  },
  {
   "cell_type": "code",
   "execution_count": 6,
   "metadata": {},
   "outputs": [],
   "source": [
    "# initialize dictionaries\n",
    "for a in adapters:\n",
    "    # add all possible paths (any numbers in list within three values)\n",
    "    nest[a] = [x for x in adapters if x <= a+3 and x > a]\n",
    "    nodes[a] = 0\n",
    "    \n",
    "nodes[max(adapters)] = 1\n",
    "nest[max(adapters)] = [max(adapters)]"
   ]
  },
  {
   "cell_type": "code",
   "execution_count": 7,
   "metadata": {},
   "outputs": [
    {
     "name": "stdout",
     "output_type": "stream",
     "text": [
      "109 loops through input list to converge\n"
     ]
    }
   ],
   "source": [
    "# iteratively step through input list \n",
    "# and set the number of terminal nodes equal to the sum of its possible choices\n",
    "# when this converges after n loops (where n is length of input list),\n",
    "# the root will contain the total number of terminal nodes\n",
    "\n",
    "prev_len = 0\n",
    "iterations = 0\n",
    "\n",
    "while sum(nodes.values()) > prev_len:\n",
    "    \n",
    "    prev_len = sum(nodes.values())\n",
    "    for key, value in nest.items():\n",
    "        \n",
    "        # grab sum of nodes in choices\n",
    "        new_size = 0\n",
    "        for branch in value:\n",
    "            new_size += nodes[branch]\n",
    "            \n",
    "        nodes[key] = new_size\n",
    "        \n",
    "    iterations += 1\n",
    "    \n",
    "print('{} loops through input list to converge'.format(iterations))"
   ]
  },
  {
   "cell_type": "code",
   "execution_count": 8,
   "metadata": {},
   "outputs": [
    {
     "data": {
      "text/plain": [
       "453551299002368"
      ]
     },
     "execution_count": 8,
     "metadata": {},
     "output_type": "execute_result"
    }
   ],
   "source": [
    "nodes[0]"
   ]
  }
 ],
 "metadata": {
  "kernelspec": {
   "display_name": "Python 3",
   "language": "python",
   "name": "python3"
  },
  "language_info": {
   "codemirror_mode": {
    "name": "ipython",
    "version": 3
   },
   "file_extension": ".py",
   "mimetype": "text/x-python",
   "name": "python",
   "nbconvert_exporter": "python",
   "pygments_lexer": "ipython3",
   "version": "3.6.5"
  },
  "toc": {
   "base_numbering": 1,
   "nav_menu": {},
   "number_sections": true,
   "sideBar": true,
   "skip_h1_title": false,
   "title_cell": "Table of Contents",
   "title_sidebar": "Contents",
   "toc_cell": false,
   "toc_position": {},
   "toc_section_display": true,
   "toc_window_display": false
  },
  "varInspector": {
   "cols": {
    "lenName": 16,
    "lenType": 16,
    "lenVar": 40
   },
   "kernels_config": {
    "python": {
     "delete_cmd_postfix": "",
     "delete_cmd_prefix": "del ",
     "library": "var_list.py",
     "varRefreshCmd": "print(var_dic_list())"
    },
    "r": {
     "delete_cmd_postfix": ") ",
     "delete_cmd_prefix": "rm(",
     "library": "var_list.r",
     "varRefreshCmd": "cat(var_dic_list()) "
    }
   },
   "types_to_exclude": [
    "module",
    "function",
    "builtin_function_or_method",
    "instance",
    "_Feature"
   ],
   "window_display": false
  }
 },
 "nbformat": 4,
 "nbformat_minor": 2
}
